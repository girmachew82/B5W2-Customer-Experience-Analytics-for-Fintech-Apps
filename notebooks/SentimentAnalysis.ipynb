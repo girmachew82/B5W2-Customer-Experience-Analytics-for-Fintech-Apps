{
 "cells": [
  {
   "cell_type": "code",
   "execution_count": 41,
   "id": "f230dbee",
   "metadata": {},
   "outputs": [
    {
     "name": "stderr",
     "output_type": "stream",
     "text": [
      "[nltk_data] Downloading package punkt to\n",
      "[nltk_data]     C:\\Users\\girmachew\\AppData\\Roaming\\nltk_data...\n",
      "[nltk_data]   Package punkt is already up-to-date!\n",
      "[nltk_data] Downloading package averaged_perceptron_tagger to\n",
      "[nltk_data]     C:\\Users\\girmachew\\AppData\\Roaming\\nltk_data...\n",
      "[nltk_data]   Package averaged_perceptron_tagger is already up-to-\n",
      "[nltk_data]       date!\n",
      "[nltk_data] Downloading package maxent_ne_chunker to\n",
      "[nltk_data]     C:\\Users\\girmachew\\AppData\\Roaming\\nltk_data...\n",
      "[nltk_data]   Package maxent_ne_chunker is already up-to-date!\n",
      "[nltk_data] Downloading package words to\n",
      "[nltk_data]     C:\\Users\\girmachew\\AppData\\Roaming\\nltk_data...\n",
      "[nltk_data]   Package words is already up-to-date!\n"
     ]
    },
    {
     "data": {
      "text/plain": [
       "True"
      ]
     },
     "execution_count": 41,
     "metadata": {},
     "output_type": "execute_result"
    }
   ],
   "source": [
    "import os\n",
    "import sys\n",
    "import pandas as pd\n",
    "import pandas as pd\n",
    "import nltk\n",
    "from nltk.sentiment import SentimentIntensityAnalyzer\n",
    "from tqdm.notebook import tqdm\n",
    "import transformers\n",
    "import seaborn as sb\n",
    "import matplotlib.pyplot as plt\n",
    "nltk.download('punkt')\n",
    "nltk.download('averaged_perceptron_tagger')\n",
    "nltk.download('maxent_ne_chunker')\n",
    "nltk.download('words')\n",
    "# print(transformers.__version__)"
   ]
  },
  {
   "cell_type": "code",
   "execution_count": 42,
   "id": "30916a33",
   "metadata": {},
   "outputs": [],
   "source": [
    "sys.path.append(os.path.abspath(os.path.join('..')))"
   ]
  },
  {
   "cell_type": "code",
   "execution_count": 43,
   "id": "357e71b7",
   "metadata": {},
   "outputs": [],
   "source": [
    "cleaned= pd.read_csv('data/cleaned_bank_reviews.csv')"
   ]
  },
  {
   "cell_type": "code",
   "execution_count": 44,
   "id": "afae21d5",
   "metadata": {},
   "outputs": [
    {
     "data": {
      "text/plain": [
       "(8984, 5)"
      ]
     },
     "execution_count": 44,
     "metadata": {},
     "output_type": "execute_result"
    }
   ],
   "source": [
    "cleaned.shape"
   ]
  },
  {
   "cell_type": "code",
   "execution_count": 45,
   "id": "19cdae6c",
   "metadata": {},
   "outputs": [
    {
     "data": {
      "text/html": [
       "<div>\n",
       "<style scoped>\n",
       "    .dataframe tbody tr th:only-of-type {\n",
       "        vertical-align: middle;\n",
       "    }\n",
       "\n",
       "    .dataframe tbody tr th {\n",
       "        vertical-align: top;\n",
       "    }\n",
       "\n",
       "    .dataframe thead th {\n",
       "        text-align: right;\n",
       "    }\n",
       "</style>\n",
       "<table border=\"1\" class=\"dataframe\">\n",
       "  <thead>\n",
       "    <tr style=\"text-align: right;\">\n",
       "      <th></th>\n",
       "      <th>app_id</th>\n",
       "      <th>userName</th>\n",
       "      <th>score</th>\n",
       "      <th>content</th>\n",
       "      <th>at</th>\n",
       "    </tr>\n",
       "  </thead>\n",
       "  <tbody>\n",
       "    <tr>\n",
       "      <th>0</th>\n",
       "      <td>com.combanketh.mobilebanking</td>\n",
       "      <td>A Google user</td>\n",
       "      <td>2</td>\n",
       "      <td>The CBE app has been highly unreliable in rece...</td>\n",
       "      <td>2025-05-25</td>\n",
       "    </tr>\n",
       "    <tr>\n",
       "      <th>1</th>\n",
       "      <td>com.combanketh.mobilebanking</td>\n",
       "      <td>A Google user</td>\n",
       "      <td>4</td>\n",
       "      <td>this new update(Mar 19,2025) is great in fixin...</td>\n",
       "      <td>2025-03-20</td>\n",
       "    </tr>\n",
       "    <tr>\n",
       "      <th>2</th>\n",
       "      <td>com.combanketh.mobilebanking</td>\n",
       "      <td>A Google user</td>\n",
       "      <td>5</td>\n",
       "      <td>Good job to the CBE team on this mobile app! I...</td>\n",
       "      <td>2025-04-04</td>\n",
       "    </tr>\n",
       "    <tr>\n",
       "      <th>3</th>\n",
       "      <td>com.combanketh.mobilebanking</td>\n",
       "      <td>A Google user</td>\n",
       "      <td>5</td>\n",
       "      <td>this app has developed in a very good ways but...</td>\n",
       "      <td>2025-05-31</td>\n",
       "    </tr>\n",
       "    <tr>\n",
       "      <th>4</th>\n",
       "      <td>com.combanketh.mobilebanking</td>\n",
       "      <td>A Google user</td>\n",
       "      <td>1</td>\n",
       "      <td>everytime you uninstall the app you have to re...</td>\n",
       "      <td>2025-06-04</td>\n",
       "    </tr>\n",
       "  </tbody>\n",
       "</table>\n",
       "</div>"
      ],
      "text/plain": [
       "                         app_id       userName  score  \\\n",
       "0  com.combanketh.mobilebanking  A Google user      2   \n",
       "1  com.combanketh.mobilebanking  A Google user      4   \n",
       "2  com.combanketh.mobilebanking  A Google user      5   \n",
       "3  com.combanketh.mobilebanking  A Google user      5   \n",
       "4  com.combanketh.mobilebanking  A Google user      1   \n",
       "\n",
       "                                             content          at  \n",
       "0  The CBE app has been highly unreliable in rece...  2025-05-25  \n",
       "1  this new update(Mar 19,2025) is great in fixin...  2025-03-20  \n",
       "2  Good job to the CBE team on this mobile app! I...  2025-04-04  \n",
       "3  this app has developed in a very good ways but...  2025-05-31  \n",
       "4  everytime you uninstall the app you have to re...  2025-06-04  "
      ]
     },
     "execution_count": 45,
     "metadata": {},
     "output_type": "execute_result"
    }
   ],
   "source": [
    "cleaned.head()"
   ]
  },
  {
   "cell_type": "code",
   "execution_count": 20,
   "id": "1a79a4be",
   "metadata": {},
   "outputs": [
    {
     "data": {
      "text/plain": [
       "'The CBE app has been highly unreliable in recent weeks. It frequently fails to work properly on both Ethio Telecom and Safaricom networks, whether using Wi-Fi or mobile data. This week, the system was down entirely for extended periods, making it very difficult to access banking services. The app only functions intermittently, and the lack of consistency is frustrating. I hope the issues are addressed soon, and that any non-technical influences are removed from such essential services.'"
      ]
     },
     "execution_count": 20,
     "metadata": {},
     "output_type": "execute_result"
    }
   ],
   "source": [
    "cleaned['content'].values[0]"
   ]
  },
  {
   "cell_type": "code",
   "execution_count": 21,
   "id": "386be1af",
   "metadata": {},
   "outputs": [
    {
     "data": {
      "text/plain": [
       "score\n",
       "5    5651\n",
       "1    1577\n",
       "4     842\n",
       "3     545\n",
       "2     369\n",
       "Name: count, dtype: int64"
      ]
     },
     "execution_count": 21,
     "metadata": {},
     "output_type": "execute_result"
    }
   ],
   "source": [
    "cleaned['score'].value_counts()"
   ]
  },
  {
   "cell_type": "markdown",
   "id": "8d34c7d7",
   "metadata": {},
   "source": [
    "# Basic NLTK"
   ]
  },
  {
   "cell_type": "code",
   "execution_count": 22,
   "id": "547623e7",
   "metadata": {},
   "outputs": [
    {
     "name": "stdout",
     "output_type": "stream",
     "text": [
      "This app has several issues based on my experience. Below are the problems that I encountered: 1. The app frequently crashes. 2. It only shows a limited transaction record history (25 transactions). 3. You can't access the transaction records after 8:00 pm and on Sundays. 4. It displays a \"payment failed\" message. It would be greatly appreciated if you could address these issues\n"
     ]
    }
   ],
   "source": [
    "example = cleaned['content'][50]\n",
    "print(example)"
   ]
  },
  {
   "cell_type": "code",
   "execution_count": 10,
   "id": "4d5c950b",
   "metadata": {},
   "outputs": [
    {
     "data": {
      "text/plain": [
       "['This',\n",
       " 'app',\n",
       " 'has',\n",
       " 'several',\n",
       " 'issues',\n",
       " 'based',\n",
       " 'on',\n",
       " 'my',\n",
       " 'experience',\n",
       " '.',\n",
       " 'Below',\n",
       " 'are',\n",
       " 'the',\n",
       " 'problems',\n",
       " 'that',\n",
       " 'I',\n",
       " 'encountered',\n",
       " ':',\n",
       " '1',\n",
       " '.',\n",
       " 'The',\n",
       " 'app',\n",
       " 'frequently',\n",
       " 'crashes',\n",
       " '.',\n",
       " '2',\n",
       " '.',\n",
       " 'It',\n",
       " 'only',\n",
       " 'shows',\n",
       " 'a',\n",
       " 'limited',\n",
       " 'transaction',\n",
       " 'record',\n",
       " 'history',\n",
       " '(',\n",
       " '25',\n",
       " 'transactions',\n",
       " ')',\n",
       " '.',\n",
       " '3',\n",
       " '.',\n",
       " 'You',\n",
       " 'ca',\n",
       " \"n't\",\n",
       " 'access',\n",
       " 'the',\n",
       " 'transaction',\n",
       " 'records',\n",
       " 'after',\n",
       " '8:00',\n",
       " 'pm',\n",
       " 'and',\n",
       " 'on',\n",
       " 'Sundays',\n",
       " '.',\n",
       " '4',\n",
       " '.',\n",
       " 'It',\n",
       " 'displays',\n",
       " 'a',\n",
       " '``',\n",
       " 'payment',\n",
       " 'failed',\n",
       " \"''\",\n",
       " 'message',\n",
       " '.',\n",
       " 'It',\n",
       " 'would',\n",
       " 'be',\n",
       " 'greatly',\n",
       " 'appreciated',\n",
       " 'if',\n",
       " 'you',\n",
       " 'could',\n",
       " 'address',\n",
       " 'these',\n",
       " 'issues']"
      ]
     },
     "execution_count": 10,
     "metadata": {},
     "output_type": "execute_result"
    }
   ],
   "source": [
    "nltk.word_tokenize(example)"
   ]
  },
  {
   "cell_type": "code",
   "execution_count": 23,
   "id": "876f1a67",
   "metadata": {},
   "outputs": [
    {
     "data": {
      "text/plain": [
       "['This',\n",
       " 'app',\n",
       " 'has',\n",
       " 'several',\n",
       " 'issues',\n",
       " 'based',\n",
       " 'on',\n",
       " 'my',\n",
       " 'experience',\n",
       " '.']"
      ]
     },
     "execution_count": 23,
     "metadata": {},
     "output_type": "execute_result"
    }
   ],
   "source": [
    "tokens = nltk.word_tokenize(example)\n",
    "tokens[:10]"
   ]
  },
  {
   "cell_type": "code",
   "execution_count": 24,
   "id": "498b561e",
   "metadata": {},
   "outputs": [
    {
     "data": {
      "text/plain": [
       "[('This', 'DT'),\n",
       " ('app', 'NN'),\n",
       " ('has', 'VBZ'),\n",
       " ('several', 'JJ'),\n",
       " ('issues', 'NNS'),\n",
       " ('based', 'VBN'),\n",
       " ('on', 'IN'),\n",
       " ('my', 'PRP$'),\n",
       " ('experience', 'NN'),\n",
       " ('.', '.')]"
      ]
     },
     "execution_count": 24,
     "metadata": {},
     "output_type": "execute_result"
    }
   ],
   "source": [
    "# part of speach\n",
    "tagged= nltk.pos_tag(tokens) \n",
    "tagged[:10]"
   ]
  },
  {
   "cell_type": "code",
   "execution_count": 13,
   "id": "9ffd1cc6",
   "metadata": {},
   "outputs": [
    {
     "ename": "LookupError",
     "evalue": "\n**********************************************************************\n  Resource \u001b[93mmaxent_ne_chunker_tab\u001b[0m not found.\n  Please use the NLTK Downloader to obtain the resource:\n\n  \u001b[31m>>> import nltk\n  >>> nltk.download('maxent_ne_chunker_tab')\n  \u001b[0m\n  For more information see: https://www.nltk.org/data.html\n\n  Attempted to load \u001b[93mchunkers/maxent_ne_chunker_tab/english_ace_multiclass/\u001b[0m\n\n  Searched in:\n    - 'C:\\\\Users\\\\girmachew/nltk_data'\n    - 'c:\\\\Users\\\\girmachew\\\\B5W2-Customer-Experience-Analytics-for-Fintech-Apps\\\\venv\\\\nltk_data'\n    - 'c:\\\\Users\\\\girmachew\\\\B5W2-Customer-Experience-Analytics-for-Fintech-Apps\\\\venv\\\\share\\\\nltk_data'\n    - 'c:\\\\Users\\\\girmachew\\\\B5W2-Customer-Experience-Analytics-for-Fintech-Apps\\\\venv\\\\lib\\\\nltk_data'\n    - 'C:\\\\Users\\\\girmachew\\\\AppData\\\\Roaming\\\\nltk_data'\n    - 'C:\\\\nltk_data'\n    - 'D:\\\\nltk_data'\n    - 'E:\\\\nltk_data'\n**********************************************************************\n",
     "output_type": "error",
     "traceback": [
      "\u001b[31m---------------------------------------------------------------------------\u001b[39m",
      "\u001b[31mLookupError\u001b[39m                               Traceback (most recent call last)",
      "\u001b[36mCell\u001b[39m\u001b[36m \u001b[39m\u001b[32mIn[13]\u001b[39m\u001b[32m, line 1\u001b[39m\n\u001b[32m----> \u001b[39m\u001b[32m1\u001b[39m entities = \u001b[43mnltk\u001b[49m\u001b[43m.\u001b[49m\u001b[43mne_chunk\u001b[49m\u001b[43m(\u001b[49m\u001b[43mtagged\u001b[49m\u001b[43m)\u001b[49m\n\u001b[32m      2\u001b[39m entities.pprint()\n",
      "\u001b[36mFile \u001b[39m\u001b[32mc:\\Users\\girmachew\\B5W2-Customer-Experience-Analytics-for-Fintech-Apps\\venv\\Lib\\site-packages\\nltk\\chunk\\__init__.py:192\u001b[39m, in \u001b[36mne_chunk\u001b[39m\u001b[34m(tagged_tokens, binary)\u001b[39m\n\u001b[32m    190\u001b[39m     chunker = ne_chunker(fmt=\u001b[33m\"\u001b[39m\u001b[33mbinary\u001b[39m\u001b[33m\"\u001b[39m)\n\u001b[32m    191\u001b[39m \u001b[38;5;28;01melse\u001b[39;00m:\n\u001b[32m--> \u001b[39m\u001b[32m192\u001b[39m     chunker = \u001b[43mne_chunker\u001b[49m\u001b[43m(\u001b[49m\u001b[43m)\u001b[49m\n\u001b[32m    193\u001b[39m \u001b[38;5;28;01mreturn\u001b[39;00m chunker.parse(tagged_tokens)\n",
      "\u001b[36mFile \u001b[39m\u001b[32mc:\\Users\\girmachew\\B5W2-Customer-Experience-Analytics-for-Fintech-Apps\\venv\\Lib\\site-packages\\nltk\\chunk\\__init__.py:174\u001b[39m, in \u001b[36mne_chunker\u001b[39m\u001b[34m(fmt)\u001b[39m\n\u001b[32m    170\u001b[39m \u001b[38;5;28;01mdef\u001b[39;00m\u001b[38;5;250m \u001b[39m\u001b[34mne_chunker\u001b[39m(fmt=\u001b[33m\"\u001b[39m\u001b[33mmulticlass\u001b[39m\u001b[33m\"\u001b[39m):\n\u001b[32m    171\u001b[39m \u001b[38;5;250m    \u001b[39m\u001b[33;03m\"\"\"\u001b[39;00m\n\u001b[32m    172\u001b[39m \u001b[33;03m    Load NLTK's currently recommended named entity chunker.\u001b[39;00m\n\u001b[32m    173\u001b[39m \u001b[33;03m    \"\"\"\u001b[39;00m\n\u001b[32m--> \u001b[39m\u001b[32m174\u001b[39m     \u001b[38;5;28;01mreturn\u001b[39;00m \u001b[43mMaxent_NE_Chunker\u001b[49m\u001b[43m(\u001b[49m\u001b[43mfmt\u001b[49m\u001b[43m)\u001b[49m\n",
      "\u001b[36mFile \u001b[39m\u001b[32mc:\\Users\\girmachew\\B5W2-Customer-Experience-Analytics-for-Fintech-Apps\\venv\\Lib\\site-packages\\nltk\\chunk\\named_entity.py:329\u001b[39m, in \u001b[36mMaxent_NE_Chunker.__init__\u001b[39m\u001b[34m(self, fmt)\u001b[39m\n\u001b[32m    326\u001b[39m \u001b[38;5;28;01mfrom\u001b[39;00m\u001b[38;5;250m \u001b[39m\u001b[34;01mnltk\u001b[39;00m\u001b[34;01m.\u001b[39;00m\u001b[34;01mdata\u001b[39;00m\u001b[38;5;250m \u001b[39m\u001b[38;5;28;01mimport\u001b[39;00m find\n\u001b[32m    328\u001b[39m \u001b[38;5;28mself\u001b[39m._fmt = fmt\n\u001b[32m--> \u001b[39m\u001b[32m329\u001b[39m \u001b[38;5;28mself\u001b[39m._tab_dir = \u001b[43mfind\u001b[49m\u001b[43m(\u001b[49m\u001b[33;43mf\u001b[39;49m\u001b[33;43m\"\u001b[39;49m\u001b[33;43mchunkers/maxent_ne_chunker_tab/english_ace_\u001b[39;49m\u001b[38;5;132;43;01m{\u001b[39;49;00m\u001b[43mfmt\u001b[49m\u001b[38;5;132;43;01m}\u001b[39;49;00m\u001b[33;43m/\u001b[39;49m\u001b[33;43m\"\u001b[39;49m\u001b[43m)\u001b[49m\n\u001b[32m    330\u001b[39m \u001b[38;5;28mself\u001b[39m.load_params()\n",
      "\u001b[36mFile \u001b[39m\u001b[32mc:\\Users\\girmachew\\B5W2-Customer-Experience-Analytics-for-Fintech-Apps\\venv\\Lib\\site-packages\\nltk\\data.py:579\u001b[39m, in \u001b[36mfind\u001b[39m\u001b[34m(resource_name, paths)\u001b[39m\n\u001b[32m    577\u001b[39m sep = \u001b[33m\"\u001b[39m\u001b[33m*\u001b[39m\u001b[33m\"\u001b[39m * \u001b[32m70\u001b[39m\n\u001b[32m    578\u001b[39m resource_not_found = \u001b[33mf\u001b[39m\u001b[33m\"\u001b[39m\u001b[38;5;130;01m\\n\u001b[39;00m\u001b[38;5;132;01m{\u001b[39;00msep\u001b[38;5;132;01m}\u001b[39;00m\u001b[38;5;130;01m\\n\u001b[39;00m\u001b[38;5;132;01m{\u001b[39;00mmsg\u001b[38;5;132;01m}\u001b[39;00m\u001b[38;5;130;01m\\n\u001b[39;00m\u001b[38;5;132;01m{\u001b[39;00msep\u001b[38;5;132;01m}\u001b[39;00m\u001b[38;5;130;01m\\n\u001b[39;00m\u001b[33m\"\u001b[39m\n\u001b[32m--> \u001b[39m\u001b[32m579\u001b[39m \u001b[38;5;28;01mraise\u001b[39;00m \u001b[38;5;167;01mLookupError\u001b[39;00m(resource_not_found)\n",
      "\u001b[31mLookupError\u001b[39m: \n**********************************************************************\n  Resource \u001b[93mmaxent_ne_chunker_tab\u001b[0m not found.\n  Please use the NLTK Downloader to obtain the resource:\n\n  \u001b[31m>>> import nltk\n  >>> nltk.download('maxent_ne_chunker_tab')\n  \u001b[0m\n  For more information see: https://www.nltk.org/data.html\n\n  Attempted to load \u001b[93mchunkers/maxent_ne_chunker_tab/english_ace_multiclass/\u001b[0m\n\n  Searched in:\n    - 'C:\\\\Users\\\\girmachew/nltk_data'\n    - 'c:\\\\Users\\\\girmachew\\\\B5W2-Customer-Experience-Analytics-for-Fintech-Apps\\\\venv\\\\nltk_data'\n    - 'c:\\\\Users\\\\girmachew\\\\B5W2-Customer-Experience-Analytics-for-Fintech-Apps\\\\venv\\\\share\\\\nltk_data'\n    - 'c:\\\\Users\\\\girmachew\\\\B5W2-Customer-Experience-Analytics-for-Fintech-Apps\\\\venv\\\\lib\\\\nltk_data'\n    - 'C:\\\\Users\\\\girmachew\\\\AppData\\\\Roaming\\\\nltk_data'\n    - 'C:\\\\nltk_data'\n    - 'D:\\\\nltk_data'\n    - 'E:\\\\nltk_data'\n**********************************************************************\n"
     ]
    }
   ],
   "source": [
    "entities = nltk.ne_chunk(tagged)\n",
    "entities.pprint()"
   ]
  },
  {
   "cell_type": "code",
   "execution_count": null,
   "id": "5ce68ab5",
   "metadata": {},
   "outputs": [],
   "source": [
    "sia = SentimentIntensityAnalyzer()"
   ]
  },
  {
   "cell_type": "code",
   "execution_count": null,
   "id": "e3d45ce4",
   "metadata": {},
   "outputs": [
    {
     "data": {
      "text/plain": [
       "{'neg': 0.0, 'neu': 0.318, 'pos': 0.682, 'compound': 0.6468}"
      ]
     },
     "execution_count": 28,
     "metadata": {},
     "output_type": "execute_result"
    }
   ],
   "source": [
    "sia.polarity_scores(\"I am so happy!\")"
   ]
  },
  {
   "cell_type": "code",
   "execution_count": null,
   "id": "fad40db4",
   "metadata": {},
   "outputs": [
    {
     "data": {
      "text/plain": [
       "{'neg': 0.451, 'neu': 0.549, 'pos': 0.0, 'compound': -0.6249}"
      ]
     },
     "execution_count": 29,
     "metadata": {},
     "output_type": "execute_result"
    }
   ],
   "source": [
    "sia.polarity_scores(\"Thi is the worst thing ever\")"
   ]
  },
  {
   "cell_type": "code",
   "execution_count": null,
   "id": "e91ef53c",
   "metadata": {},
   "outputs": [
    {
     "data": {
      "text/plain": [
       "{'neg': 0.117, 'neu': 0.83, 'pos': 0.053, 'compound': -0.5118}"
      ]
     },
     "execution_count": 30,
     "metadata": {},
     "output_type": "execute_result"
    }
   ],
   "source": [
    "sia.polarity_scores(example)"
   ]
  },
  {
   "cell_type": "code",
   "execution_count": null,
   "id": "94442987",
   "metadata": {},
   "outputs": [
    {
     "data": {
      "text/plain": [
       "{'neg': 0.0, 'neu': 0.463, 'pos': 0.537, 'compound': 0.8449}"
      ]
     },
     "execution_count": 31,
     "metadata": {},
     "output_type": "execute_result"
    }
   ],
   "source": [
    "sia.polarity_scores(cleaned['content'][1000])"
   ]
  },
  {
   "cell_type": "code",
   "execution_count": null,
   "id": "e0a14c9b",
   "metadata": {},
   "outputs": [
    {
     "data": {
      "text/plain": [
       "'Good features. And really very fast..! Amazing from CBE...!!'"
      ]
     },
     "execution_count": 32,
     "metadata": {},
     "output_type": "execute_result"
    }
   ],
   "source": [
    "cleaned['content'][1000]"
   ]
  },
  {
   "cell_type": "code",
   "execution_count": null,
   "id": "7b99e52f",
   "metadata": {},
   "outputs": [
    {
     "data": {
      "text/html": [
       "<div>\n",
       "<style scoped>\n",
       "    .dataframe tbody tr th:only-of-type {\n",
       "        vertical-align: middle;\n",
       "    }\n",
       "\n",
       "    .dataframe tbody tr th {\n",
       "        vertical-align: top;\n",
       "    }\n",
       "\n",
       "    .dataframe thead th {\n",
       "        text-align: right;\n",
       "    }\n",
       "</style>\n",
       "<table border=\"1\" class=\"dataframe\">\n",
       "  <thead>\n",
       "    <tr style=\"text-align: right;\">\n",
       "      <th></th>\n",
       "      <th>app_id</th>\n",
       "      <th>userName</th>\n",
       "      <th>score</th>\n",
       "      <th>content</th>\n",
       "      <th>at</th>\n",
       "    </tr>\n",
       "  </thead>\n",
       "  <tbody>\n",
       "    <tr>\n",
       "      <th>0</th>\n",
       "      <td>com.combanketh.mobilebanking</td>\n",
       "      <td>A Google user</td>\n",
       "      <td>2</td>\n",
       "      <td>The CBE app has been highly unreliable in rece...</td>\n",
       "      <td>2025-05-25</td>\n",
       "    </tr>\n",
       "    <tr>\n",
       "      <th>1</th>\n",
       "      <td>com.combanketh.mobilebanking</td>\n",
       "      <td>A Google user</td>\n",
       "      <td>4</td>\n",
       "      <td>this new update(Mar 19,2025) is great in fixin...</td>\n",
       "      <td>2025-03-20</td>\n",
       "    </tr>\n",
       "    <tr>\n",
       "      <th>2</th>\n",
       "      <td>com.combanketh.mobilebanking</td>\n",
       "      <td>A Google user</td>\n",
       "      <td>5</td>\n",
       "      <td>Good job to the CBE team on this mobile app! I...</td>\n",
       "      <td>2025-04-04</td>\n",
       "    </tr>\n",
       "    <tr>\n",
       "      <th>3</th>\n",
       "      <td>com.combanketh.mobilebanking</td>\n",
       "      <td>A Google user</td>\n",
       "      <td>5</td>\n",
       "      <td>this app has developed in a very good ways but...</td>\n",
       "      <td>2025-05-31</td>\n",
       "    </tr>\n",
       "    <tr>\n",
       "      <th>4</th>\n",
       "      <td>com.combanketh.mobilebanking</td>\n",
       "      <td>A Google user</td>\n",
       "      <td>1</td>\n",
       "      <td>everytime you uninstall the app you have to re...</td>\n",
       "      <td>2025-06-04</td>\n",
       "    </tr>\n",
       "  </tbody>\n",
       "</table>\n",
       "</div>"
      ],
      "text/plain": [
       "                         app_id       userName  score  \\\n",
       "0  com.combanketh.mobilebanking  A Google user      2   \n",
       "1  com.combanketh.mobilebanking  A Google user      4   \n",
       "2  com.combanketh.mobilebanking  A Google user      5   \n",
       "3  com.combanketh.mobilebanking  A Google user      5   \n",
       "4  com.combanketh.mobilebanking  A Google user      1   \n",
       "\n",
       "                                             content          at  \n",
       "0  The CBE app has been highly unreliable in rece...  2025-05-25  \n",
       "1  this new update(Mar 19,2025) is great in fixin...  2025-03-20  \n",
       "2  Good job to the CBE team on this mobile app! I...  2025-04-04  \n",
       "3  this app has developed in a very good ways but...  2025-05-31  \n",
       "4  everytime you uninstall the app you have to re...  2025-06-04  "
      ]
     },
     "execution_count": 33,
     "metadata": {},
     "output_type": "execute_result"
    }
   ],
   "source": [
    "cleaned.head()"
   ]
  },
  {
   "cell_type": "code",
   "execution_count": null,
   "id": "f8a3f095",
   "metadata": {},
   "outputs": [
    {
     "ename": "ImportError",
     "evalue": "IProgress not found. Please update jupyter and ipywidgets. See https://ipywidgets.readthedocs.io/en/stable/user_install.html",
     "output_type": "error",
     "traceback": [
      "\u001b[31m---------------------------------------------------------------------------\u001b[39m",
      "\u001b[31mImportError\u001b[39m                               Traceback (most recent call last)",
      "\u001b[36mCell\u001b[39m\u001b[36m \u001b[39m\u001b[32mIn[55]\u001b[39m\u001b[32m, line 2\u001b[39m\n\u001b[32m      1\u001b[39m res = {}\n\u001b[32m----> \u001b[39m\u001b[32m2\u001b[39m \u001b[38;5;28;01mfor\u001b[39;00m i, row \u001b[38;5;129;01min\u001b[39;00m \u001b[43mtqdm\u001b[49m\u001b[43m(\u001b[49m\u001b[43mcleaned\u001b[49m\u001b[43m.\u001b[49m\u001b[43miterrows\u001b[49m\u001b[43m(\u001b[49m\u001b[43m)\u001b[49m\u001b[43m,\u001b[49m\u001b[43m \u001b[49m\u001b[43mtotal\u001b[49m\u001b[43m \u001b[49m\u001b[43m=\u001b[49m\u001b[43m \u001b[49m\u001b[38;5;28;43mlen\u001b[39;49m\u001b[43m(\u001b[49m\u001b[43mcleaned\u001b[49m\u001b[43m)\u001b[49m\u001b[43m)\u001b[49m:\n\u001b[32m      3\u001b[39m     content = row[\u001b[33m'\u001b[39m\u001b[33mcontent\u001b[39m\u001b[33m'\u001b[39m]\n\u001b[32m      4\u001b[39m     app_id = [\u001b[33m'\u001b[39m\u001b[33mapp_id\u001b[39m\u001b[33m'\u001b[39m]\n",
      "\u001b[36mFile \u001b[39m\u001b[32mc:\\Users\\girmachew\\B5W2-Customer-Experience-Analytics-for-Fintech-Apps\\venv\\Lib\\site-packages\\tqdm\\notebook.py:234\u001b[39m, in \u001b[36mtqdm_notebook.__init__\u001b[39m\u001b[34m(self, *args, **kwargs)\u001b[39m\n\u001b[32m    232\u001b[39m unit_scale = \u001b[32m1\u001b[39m \u001b[38;5;28;01mif\u001b[39;00m \u001b[38;5;28mself\u001b[39m.unit_scale \u001b[38;5;129;01mis\u001b[39;00m \u001b[38;5;28;01mTrue\u001b[39;00m \u001b[38;5;28;01melse\u001b[39;00m \u001b[38;5;28mself\u001b[39m.unit_scale \u001b[38;5;129;01mor\u001b[39;00m \u001b[32m1\u001b[39m\n\u001b[32m    233\u001b[39m total = \u001b[38;5;28mself\u001b[39m.total * unit_scale \u001b[38;5;28;01mif\u001b[39;00m \u001b[38;5;28mself\u001b[39m.total \u001b[38;5;28;01melse\u001b[39;00m \u001b[38;5;28mself\u001b[39m.total\n\u001b[32m--> \u001b[39m\u001b[32m234\u001b[39m \u001b[38;5;28mself\u001b[39m.container = \u001b[38;5;28;43mself\u001b[39;49m\u001b[43m.\u001b[49m\u001b[43mstatus_printer\u001b[49m\u001b[43m(\u001b[49m\u001b[38;5;28;43mself\u001b[39;49m\u001b[43m.\u001b[49m\u001b[43mfp\u001b[49m\u001b[43m,\u001b[49m\u001b[43m \u001b[49m\u001b[43mtotal\u001b[49m\u001b[43m,\u001b[49m\u001b[43m \u001b[49m\u001b[38;5;28;43mself\u001b[39;49m\u001b[43m.\u001b[49m\u001b[43mdesc\u001b[49m\u001b[43m,\u001b[49m\u001b[43m \u001b[49m\u001b[38;5;28;43mself\u001b[39;49m\u001b[43m.\u001b[49m\u001b[43mncols\u001b[49m\u001b[43m)\u001b[49m\n\u001b[32m    235\u001b[39m \u001b[38;5;28mself\u001b[39m.container.pbar = proxy(\u001b[38;5;28mself\u001b[39m)\n\u001b[32m    236\u001b[39m \u001b[38;5;28mself\u001b[39m.displayed = \u001b[38;5;28;01mFalse\u001b[39;00m\n",
      "\u001b[36mFile \u001b[39m\u001b[32mc:\\Users\\girmachew\\B5W2-Customer-Experience-Analytics-for-Fintech-Apps\\venv\\Lib\\site-packages\\tqdm\\notebook.py:108\u001b[39m, in \u001b[36mtqdm_notebook.status_printer\u001b[39m\u001b[34m(_, total, desc, ncols)\u001b[39m\n\u001b[32m     99\u001b[39m \u001b[38;5;66;03m# Fallback to text bar if there's no total\u001b[39;00m\n\u001b[32m    100\u001b[39m \u001b[38;5;66;03m# DEPRECATED: replaced with an 'info' style bar\u001b[39;00m\n\u001b[32m    101\u001b[39m \u001b[38;5;66;03m# if not total:\u001b[39;00m\n\u001b[32m   (...)\u001b[39m\u001b[32m    105\u001b[39m \n\u001b[32m    106\u001b[39m \u001b[38;5;66;03m# Prepare IPython progress bar\u001b[39;00m\n\u001b[32m    107\u001b[39m \u001b[38;5;28;01mif\u001b[39;00m IProgress \u001b[38;5;129;01mis\u001b[39;00m \u001b[38;5;28;01mNone\u001b[39;00m:  \u001b[38;5;66;03m# #187 #451 #558 #872\u001b[39;00m\n\u001b[32m--> \u001b[39m\u001b[32m108\u001b[39m     \u001b[38;5;28;01mraise\u001b[39;00m \u001b[38;5;167;01mImportError\u001b[39;00m(WARN_NOIPYW)\n\u001b[32m    109\u001b[39m \u001b[38;5;28;01mif\u001b[39;00m total:\n\u001b[32m    110\u001b[39m     pbar = IProgress(\u001b[38;5;28mmin\u001b[39m=\u001b[32m0\u001b[39m, \u001b[38;5;28mmax\u001b[39m=total)\n",
      "\u001b[31mImportError\u001b[39m: IProgress not found. Please update jupyter and ipywidgets. See https://ipywidgets.readthedocs.io/en/stable/user_install.html"
     ]
    }
   ],
   "source": [
    "res = {}\n",
    "for i, row in tqdm(cleaned.iterrows(), total = len(cleaned)):\n",
    "    content = row['content']\n",
    "    app_id = ['app_id']\n",
    "    res['app_id'] = sia.polarity_scores(content)\n",
    "    break\n"
   ]
  },
  {
   "cell_type": "markdown",
   "id": "dbba5bae",
   "metadata": {},
   "source": []
  },
  {
   "cell_type": "code",
   "execution_count": null,
   "id": "0d013fe5",
   "metadata": {},
   "outputs": [
    {
     "data": {
      "text/plain": [
       "{}"
      ]
     },
     "execution_count": 56,
     "metadata": {},
     "output_type": "execute_result"
    }
   ],
   "source": [
    "res"
   ]
  },
  {
   "cell_type": "code",
   "execution_count": null,
   "id": "230a574b",
   "metadata": {},
   "outputs": [],
   "source": [
    "#print(sys.executable)"
   ]
  },
  {
   "cell_type": "code",
   "execution_count": 25,
   "id": "21a3ffae",
   "metadata": {},
   "outputs": [
    {
     "name": "stderr",
     "output_type": "stream",
     "text": [
      "[nltk_data] Downloading package punkt to\n",
      "[nltk_data]     C:\\Users\\girmachew\\AppData\\Roaming\\nltk_data...\n",
      "[nltk_data]   Package punkt is already up-to-date!\n",
      "[nltk_data] Downloading package stopwords to\n",
      "[nltk_data]     C:\\Users\\girmachew\\AppData\\Roaming\\nltk_data...\n",
      "[nltk_data]   Package stopwords is already up-to-date!\n",
      "[nltk_data] Downloading package wordnet to\n",
      "[nltk_data]     C:\\Users\\girmachew\\AppData\\Roaming\\nltk_data...\n",
      "[nltk_data]   Package wordnet is already up-to-date!\n",
      "[nltk_data] Downloading package vader_lexicon to\n",
      "[nltk_data]     C:\\Users\\girmachew\\AppData\\Roaming\\nltk_data...\n",
      "[nltk_data]   Package vader_lexicon is already up-to-date!\n",
      "Device set to use cpu\n"
     ]
    }
   ],
   "source": [
    "from scripts.SentimentAnalysis import SentimentAnalysis\n",
    "\n",
    "obj = SentimentAnalysis()\n",
    "\n"
   ]
  },
  {
   "cell_type": "code",
   "execution_count": 26,
   "id": "2a314ffa",
   "metadata": {},
   "outputs": [
    {
     "data": {
      "text/plain": [
       "Index(['review', 'rating', 'date', 'bank', 'source'], dtype='object')"
      ]
     },
     "execution_count": 26,
     "metadata": {},
     "output_type": "execute_result"
    }
   ],
   "source": [
    "# Load  cleaned CSV\n",
    "df = pd.read_csv(\"data/final_bank_reviews.csv\")\n",
    "df.columns"
   ]
  },
  {
   "cell_type": "code",
   "execution_count": null,
   "id": "4f44db98",
   "metadata": {},
   "outputs": [],
   "source": [
    "results = obj.extract_emoji_and_non_english(df)"
   ]
  },
  {
   "cell_type": "code",
   "execution_count": null,
   "id": "8c0c0f2a",
   "metadata": {},
   "outputs": [
    {
     "name": "stdout",
     "output_type": "stream",
     "text": [
      "Reviews with Emojis by Bank:\n"
     ]
    },
    {
     "ename": "NameError",
     "evalue": "name 'results' is not defined",
     "output_type": "error",
     "traceback": [
      "\u001b[31m---------------------------------------------------------------------------\u001b[39m",
      "\u001b[31mNameError\u001b[39m                                 Traceback (most recent call last)",
      "\u001b[36mCell\u001b[39m\u001b[36m \u001b[39m\u001b[32mIn[35]\u001b[39m\u001b[32m, line 2\u001b[39m\n\u001b[32m      1\u001b[39m \u001b[38;5;28mprint\u001b[39m(\u001b[33m\"\u001b[39m\u001b[33mReviews with Emojis by Bank:\u001b[39m\u001b[33m\"\u001b[39m)\n\u001b[32m----> \u001b[39m\u001b[32m2\u001b[39m display(\u001b[43mresults\u001b[49m[\u001b[33m'\u001b[39m\u001b[33memoji\u001b[39m\u001b[33m'\u001b[39m])\n\u001b[32m      4\u001b[39m \u001b[38;5;28mprint\u001b[39m(\u001b[33m\"\u001b[39m\u001b[33mNon-English Reviews by Bank:\u001b[39m\u001b[33m\"\u001b[39m)\n\u001b[32m      5\u001b[39m display(results[\u001b[33m'\u001b[39m\u001b[33mnon_english\u001b[39m\u001b[33m'\u001b[39m])\n",
      "\u001b[31mNameError\u001b[39m: name 'results' is not defined"
     ]
    }
   ],
   "source": [
    "print(\"Reviews with Emojis by Bank:\")\n",
    "display(results['emoji'])\n",
    "\n",
    "print(\"Non-English Reviews by Bank:\")\n",
    "display(results['non_english'])"
   ]
  },
  {
   "cell_type": "markdown",
   "id": "26c8edd2",
   "metadata": {},
   "source": [
    "# VADER"
   ]
  },
  {
   "cell_type": "code",
   "execution_count": 46,
   "id": "caaeaf9d",
   "metadata": {},
   "outputs": [
    {
     "data": {
      "text/plain": [
       "Index(['app_id', 'userName', 'score', 'content', 'at'], dtype='object')"
      ]
     },
     "execution_count": 46,
     "metadata": {},
     "output_type": "execute_result"
    }
   ],
   "source": [
    "from scripts.SentimentAnalysis import SentimentAnalysis\n",
    "sa = SentimentAnalysis(method=\"vader\")\n",
    "df = pd.read_csv(\"data/all_bank_reviews.csv\")\n",
    "df.columns"
   ]
  },
  {
   "cell_type": "code",
   "execution_count": 28,
   "id": "678d67d6",
   "metadata": {},
   "outputs": [],
   "source": [
    "# sentiment analysis\n",
    "df = sa.add_sentiment_column(df, text_col='content')"
   ]
  },
  {
   "cell_type": "code",
   "execution_count": 29,
   "id": "dcc96716",
   "metadata": {},
   "outputs": [
    {
     "data": {
      "text/plain": [
       "'Good features. And really very fast..! Amazing from CBE...!!'"
      ]
     },
     "execution_count": 29,
     "metadata": {},
     "output_type": "execute_result"
    }
   ],
   "source": [
    "df['content'][1000]"
   ]
  },
  {
   "cell_type": "code",
   "execution_count": 30,
   "id": "e364b320",
   "metadata": {},
   "outputs": [
    {
     "data": {
      "text/plain": [
       "['Good',\n",
       " 'features',\n",
       " '.',\n",
       " 'And',\n",
       " 'really',\n",
       " 'very',\n",
       " 'fast',\n",
       " '..',\n",
       " '!',\n",
       " 'Amazing',\n",
       " 'from',\n",
       " 'CBE',\n",
       " '...',\n",
       " '!',\n",
       " '!']"
      ]
     },
     "execution_count": 30,
     "metadata": {},
     "output_type": "execute_result"
    }
   ],
   "source": [
    "nltk.word_tokenize(df['content'][1000])"
   ]
  },
  {
   "cell_type": "code",
   "execution_count": 31,
   "id": "f4dfa018",
   "metadata": {},
   "outputs": [
    {
     "data": {
      "text/plain": [
       "Index(['app_id', 'userName', 'score', 'content', 'at', 'cleaned_review',\n",
       "       'sentiment'],\n",
       "      dtype='object')"
      ]
     },
     "execution_count": 31,
     "metadata": {},
     "output_type": "execute_result"
    }
   ],
   "source": [
    "df.columns"
   ]
  },
  {
   "cell_type": "code",
   "execution_count": 32,
   "id": "4e7deaab",
   "metadata": {},
   "outputs": [
    {
     "data": {
      "text/html": [
       "<div>\n",
       "<style scoped>\n",
       "    .dataframe tbody tr th:only-of-type {\n",
       "        vertical-align: middle;\n",
       "    }\n",
       "\n",
       "    .dataframe tbody tr th {\n",
       "        vertical-align: top;\n",
       "    }\n",
       "\n",
       "    .dataframe thead th {\n",
       "        text-align: right;\n",
       "    }\n",
       "</style>\n",
       "<table border=\"1\" class=\"dataframe\">\n",
       "  <thead>\n",
       "    <tr style=\"text-align: right;\">\n",
       "      <th></th>\n",
       "      <th>app_id</th>\n",
       "      <th>userName</th>\n",
       "      <th>score</th>\n",
       "      <th>content</th>\n",
       "      <th>at</th>\n",
       "      <th>cleaned_review</th>\n",
       "      <th>sentiment</th>\n",
       "    </tr>\n",
       "  </thead>\n",
       "  <tbody>\n",
       "    <tr>\n",
       "      <th>0</th>\n",
       "      <td>com.combanketh.mobilebanking</td>\n",
       "      <td>A Google user</td>\n",
       "      <td>2</td>\n",
       "      <td>The CBE app has been highly unreliable in rece...</td>\n",
       "      <td>2025-05-25 10:54:25</td>\n",
       "      <td>cbe app highly unreliable recent week frequent...</td>\n",
       "      <td>negative</td>\n",
       "    </tr>\n",
       "    <tr>\n",
       "      <th>1</th>\n",
       "      <td>com.combanketh.mobilebanking</td>\n",
       "      <td>A Google user</td>\n",
       "      <td>4</td>\n",
       "      <td>this new update(Mar 19,2025) is great in fixin...</td>\n",
       "      <td>2025-03-20 15:11:38</td>\n",
       "      <td>new update mar great fixing bug stability smoo...</td>\n",
       "      <td>positive</td>\n",
       "    </tr>\n",
       "    <tr>\n",
       "      <th>2</th>\n",
       "      <td>com.combanketh.mobilebanking</td>\n",
       "      <td>A Google user</td>\n",
       "      <td>5</td>\n",
       "      <td>Good job to the CBE team on this mobile app! I...</td>\n",
       "      <td>2025-04-04 22:18:47</td>\n",
       "      <td>good job cbe team mobile app designed way simp...</td>\n",
       "      <td>positive</td>\n",
       "    </tr>\n",
       "    <tr>\n",
       "      <th>3</th>\n",
       "      <td>com.combanketh.mobilebanking</td>\n",
       "      <td>A Google user</td>\n",
       "      <td>5</td>\n",
       "      <td>this app has developed in a very good ways but...</td>\n",
       "      <td>2025-05-31 21:21:18</td>\n",
       "      <td>app developed good way comment need make preve...</td>\n",
       "      <td>positive</td>\n",
       "    </tr>\n",
       "    <tr>\n",
       "      <th>4</th>\n",
       "      <td>com.combanketh.mobilebanking</td>\n",
       "      <td>A Google user</td>\n",
       "      <td>1</td>\n",
       "      <td>everytime you uninstall the app you have to re...</td>\n",
       "      <td>2025-06-04 21:33:36</td>\n",
       "      <td>everytime uninstall app reach physically oldy ...</td>\n",
       "      <td>neutral</td>\n",
       "    </tr>\n",
       "  </tbody>\n",
       "</table>\n",
       "</div>"
      ],
      "text/plain": [
       "                         app_id       userName  score  \\\n",
       "0  com.combanketh.mobilebanking  A Google user      2   \n",
       "1  com.combanketh.mobilebanking  A Google user      4   \n",
       "2  com.combanketh.mobilebanking  A Google user      5   \n",
       "3  com.combanketh.mobilebanking  A Google user      5   \n",
       "4  com.combanketh.mobilebanking  A Google user      1   \n",
       "\n",
       "                                             content                   at  \\\n",
       "0  The CBE app has been highly unreliable in rece...  2025-05-25 10:54:25   \n",
       "1  this new update(Mar 19,2025) is great in fixin...  2025-03-20 15:11:38   \n",
       "2  Good job to the CBE team on this mobile app! I...  2025-04-04 22:18:47   \n",
       "3  this app has developed in a very good ways but...  2025-05-31 21:21:18   \n",
       "4  everytime you uninstall the app you have to re...  2025-06-04 21:33:36   \n",
       "\n",
       "                                      cleaned_review sentiment  \n",
       "0  cbe app highly unreliable recent week frequent...  negative  \n",
       "1  new update mar great fixing bug stability smoo...  positive  \n",
       "2  good job cbe team mobile app designed way simp...  positive  \n",
       "3  app developed good way comment need make preve...  positive  \n",
       "4  everytime uninstall app reach physically oldy ...   neutral  "
      ]
     },
     "execution_count": 32,
     "metadata": {},
     "output_type": "execute_result"
    }
   ],
   "source": [
    "df.head()"
   ]
  },
  {
   "cell_type": "code",
   "execution_count": 33,
   "id": "16696336",
   "metadata": {},
   "outputs": [
    {
     "data": {
      "text/plain": [
       "0       negative\n",
       "1       positive\n",
       "2       positive\n",
       "3       positive\n",
       "4        neutral\n",
       "          ...   \n",
       "8986     neutral\n",
       "8987     neutral\n",
       "8988     neutral\n",
       "8989     neutral\n",
       "8990     neutral\n",
       "Name: sentiment, Length: 8991, dtype: object"
      ]
     },
     "execution_count": 33,
     "metadata": {},
     "output_type": "execute_result"
    }
   ],
   "source": [
    "df['sentiment']"
   ]
  },
  {
   "cell_type": "code",
   "execution_count": 34,
   "id": "4db95ad2",
   "metadata": {},
   "outputs": [
    {
     "name": "stdout",
     "output_type": "stream",
     "text": [
      "sentiment                        app_id  score  negative  neutral  positive\n",
      "0              com.boa.boaMobileBanking      1       175      157        90\n",
      "1              com.boa.boaMobileBanking      2        11       25        16\n",
      "2              com.boa.boaMobileBanking      3         8       35        22\n",
      "3              com.boa.boaMobileBanking      4         2       27        19\n",
      "4              com.boa.boaMobileBanking      5         5      299       154\n",
      "5          com.combanketh.mobilebanking      1       328      526       268\n",
      "6          com.combanketh.mobilebanking      2        66      136        98\n",
      "7          com.combanketh.mobilebanking      3        49      224       197\n",
      "8          com.combanketh.mobilebanking      4        35      326       410\n",
      "9          com.combanketh.mobilebanking      5        42     2821      1972\n",
      "10            com.dashen.dashensuperapp      1         6       11        17\n",
      "11            com.dashen.dashensuperapp      2         4        7         6\n",
      "12            com.dashen.dashensuperapp      3         0        5         7\n",
      "13            com.dashen.dashensuperapp      4         0       13        11\n",
      "14            com.dashen.dashensuperapp      5         2      145       214\n"
     ]
    }
   ],
   "source": [
    "agg = sa.aggregate_sentiment(df)\n",
    "print(agg.head(15))"
   ]
  },
  {
   "cell_type": "markdown",
   "id": "7d571306",
   "metadata": {},
   "source": [
    "# TextBlob"
   ]
  },
  {
   "cell_type": "code",
   "execution_count": 47,
   "id": "a299d4bf",
   "metadata": {},
   "outputs": [
    {
     "data": {
      "text/plain": [
       "Index(['app_id', 'userName', 'score', 'content', 'at'], dtype='object')"
      ]
     },
     "execution_count": 47,
     "metadata": {},
     "output_type": "execute_result"
    }
   ],
   "source": [
    "sa = SentimentAnalysis(method=\"textblob\")\n",
    "df = pd.read_csv(\"data/all_bank_reviews.csv\")\n",
    "df.columns"
   ]
  },
  {
   "cell_type": "code",
   "execution_count": 37,
   "id": "6932edfc",
   "metadata": {},
   "outputs": [],
   "source": [
    "# sentiment analysis\n",
    "df = sa.add_sentiment_column(df, text_col='content')"
   ]
  },
  {
   "cell_type": "code",
   "execution_count": 38,
   "id": "ba492540",
   "metadata": {},
   "outputs": [
    {
     "name": "stdout",
     "output_type": "stream",
     "text": [
      "sentiment                        app_id  score  negative  neutral  positive\n",
      "0              com.boa.boaMobileBanking      1       141      207        74\n",
      "1              com.boa.boaMobileBanking      2        12       30        10\n",
      "2              com.boa.boaMobileBanking      3         8       37        20\n",
      "3              com.boa.boaMobileBanking      4         1       28        19\n",
      "4              com.boa.boaMobileBanking      5         6      315       137\n",
      "5          com.combanketh.mobilebanking      1       237      671       214\n",
      "6          com.combanketh.mobilebanking      2        46      170        84\n",
      "7          com.combanketh.mobilebanking      3        22      269       179\n",
      "8          com.combanketh.mobilebanking      4        21      373       377\n",
      "9          com.combanketh.mobilebanking      5        29     2951      1855\n",
      "10            com.dashen.dashensuperapp      1         8       16        10\n",
      "11            com.dashen.dashensuperapp      2         5        8         4\n",
      "12            com.dashen.dashensuperapp      3         2        4         6\n",
      "13            com.dashen.dashensuperapp      4         0       13        11\n",
      "14            com.dashen.dashensuperapp      5         3      147       211\n"
     ]
    }
   ],
   "source": [
    "agg = sa.aggregate_sentiment(df)\n",
    "print(agg.head(15))"
   ]
  },
  {
   "cell_type": "code",
   "execution_count": 40,
   "id": "52036a80",
   "metadata": {},
   "outputs": [
    {
     "name": "stdout",
     "output_type": "stream",
     "text": [
      "\n",
      "Top Keywords for App ID: com.boa.boaMobileBanking\n",
      "                term     score\n",
      "            good app 15.225946\n",
      "           worst app  7.700130\n",
      "      mobile banking  7.644543\n",
      "         banking app  6.708661\n",
      "    developer option  4.825487\n",
      "             bad app  4.786880\n",
      "            best app  4.497425\n",
      "  mobile banking app  3.806520\n",
      "          worest app  3.627921\n",
      "            app work  3.625569\n",
      "            easy use  3.569135\n",
      "    good application  3.420261\n",
      "           great app  3.404993\n",
      "         useless app  3.399933\n",
      "        worst mobile  2.961907\n",
      "         app working  2.834590\n",
      "             use app  2.783968\n",
      "    working properly  2.765258\n",
      "worst mobile banking  2.690025\n",
      "           best bank  2.609616\n",
      "            nice app  2.557715\n",
      "        good service  2.538810\n",
      "          boa mobile  2.224539\n",
      "   worst application  2.130175\n",
      "   worst banking app  2.067258\n",
      "       worst banking  2.067258\n",
      "   disable developer  2.058817\n",
      "         working day  2.028073\n",
      "            app seen  2.014440\n",
      "           great boa  2.000000\n",
      "\n",
      "Top Keywords for App ID: com.combanketh.mobilebanking\n",
      "                    term      score\n",
      "                good app 196.399707\n",
      "                easy use  74.766979\n",
      "                nice app  59.316396\n",
      "               great app  58.747565\n",
      "                best app  50.424702\n",
      "        good application  28.144176\n",
      "          mobile banking  25.377101\n",
      "                like app  25.088557\n",
      "            good service  19.410809\n",
      "                app good  16.482717\n",
      "             app working  16.358933\n",
      "           user friendly  16.275084\n",
      "           bank ethiopia  15.131575\n",
      "               easy fast  14.612847\n",
      "                 use app  14.352087\n",
      "     transaction history  14.164466\n",
      "             banking app  14.081635\n",
      "               good work  13.880265\n",
      "         commercial bank  13.771672\n",
      "              simple use  13.417290\n",
      "      recent transaction  13.275231\n",
      "       verification code  12.128340\n",
      "        best application  12.020806\n",
      "              new update  11.219284\n",
      "        working properly  10.969126\n",
      "             amazing app  10.830008\n",
      "      authorization code  10.784876\n",
      "             perfect app  10.401451\n",
      "           work properly   9.979680\n",
      "commercial bank ethiopia   9.923413\n",
      "\n",
      "Top Keywords for App ID: com.dashen.dashensuperapp\n",
      "               term    score\n",
      "        dashen bank 7.250380\n",
      "          super app 5.588140\n",
      "           good app 5.448119\n",
      "         step ahead 4.663154\n",
      "           easy use 4.165812\n",
      "       dashen super 3.651339\n",
      "   dashen super app 3.444382\n",
      "      user friendly 3.328551\n",
      "           best app 3.172041\n",
      "     mobile banking 2.955267\n",
      "        amazing app 2.814024\n",
      "amazing application 2.565975\n",
      "         bank super 2.489445\n",
      "  dashen bank super 2.389125\n",
      "        banking app 2.334567\n",
      "         supper app 2.299627\n",
      "           app easy 2.151851\n",
      "          best best 2.109043\n",
      "          bank step 2.013715\n",
      "   dashen bank step 2.013715\n",
      "          step head 1.964599\n",
      "     bank super app 1.820387\n",
      "    bank step ahead 1.742186\n",
      "           nice app 1.732837\n",
      "       game changer 1.714049\n",
      "    digital banking 1.606270\n",
      "          easy fast 1.502152\n",
      "        best mobile 1.396015\n",
      "         super easy 1.359977\n",
      "          worst app 1.357209\n"
     ]
    }
   ],
   "source": [
    "sa = SentimentAnalysis(method=\"textblob\")\n",
    "df = sa.add_sentiment_column(df, text_col=\"content\")\n",
    "\n",
    "# Now extract top keywords or n-grams (e.g., bigrams)\n",
    "keywords_df = sa.extract_keywords_tfidf_by_app(df, top_n=30, ngram_range=(2, 3))\n",
    "# print(keywords_df)\n",
    "for app_id, group in keywords_df.groupby('app_id'):\n",
    "    print(f\"\\nTop Keywords for App ID: {app_id}\")\n",
    "    print(group[['term', 'score']].sort_values(by='score', ascending=False).to_string(index=False))\n"
   ]
  },
  {
   "cell_type": "code",
   "execution_count": 48,
   "id": "dc953510",
   "metadata": {},
   "outputs": [
    {
     "name": "stderr",
     "output_type": "stream",
     "text": [
      "C:\\Users\\girmachew\\AppData\\Local\\Temp\\ipykernel_1780\\3680674593.py:5: FutureWarning: \n",
      "\n",
      "Passing `palette` without assigning `hue` is deprecated and will be removed in v0.14.0. Assign the `y` variable to `hue` and set `legend=False` for the same effect.\n",
      "\n",
      "  sb.barplot(x='score', y='term', data=app_keywords, palette='viridis')\n"
     ]
    },
    {
     "data": {
      "image/png": "[encoded data removed]",
      "text/plain": [
       "<Figure size 1000x600 with 1 Axes>"
      ]
     },
     "metadata": {},
     "output_type": "display_data"
    }
   ],
   "source": [
    "app_id = 'com.combanketh.mobilebanking'\n",
    "app_keywords = keywords_df[keywords_df['app_id'] == app_id].sort_values(by='score', ascending=False)\n",
    "\n",
    "plt.figure(figsize=(10, 6))\n",
    "sb.barplot(x='score', y='term', data=app_keywords, palette='viridis')\n",
    "plt.title(f'Top Keywords for {app_id}')\n",
    "plt.xlabel('TF-IDF Score')\n",
    "plt.ylabel('Keyword')\n",
    "plt.tight_layout()\n",
    "plt.show()"
   ]
  },
  {
   "cell_type": "code",
   "execution_count": 49,
   "id": "83014321",
   "metadata": {},
   "outputs": [
    {
     "name": "stderr",
     "output_type": "stream",
     "text": [
      "C:\\Users\\girmachew\\AppData\\Local\\Temp\\ipykernel_1780\\621750921.py:5: FutureWarning: \n",
      "\n",
      "Passing `palette` without assigning `hue` is deprecated and will be removed in v0.14.0. Assign the `y` variable to `hue` and set `legend=False` for the same effect.\n",
      "\n",
      "  sb.barplot(x='score', y='term', data=app_keywords, palette='viridis')\n"
     ]
    },
    {
     "data": {
      "image/png": "[encoded data removed]",
      "text/plain": [
       "<Figure size 1000x600 with 1 Axes>"
      ]
     },
     "metadata": {},
     "output_type": "display_data"
    }
   ],
   "source": [
    "app_id = 'com.boa.boaMobileBanking'\n",
    "app_keywords = keywords_df[keywords_df['app_id'] == app_id].sort_values(by='score', ascending=False)\n",
    "\n",
    "plt.figure(figsize=(10, 6))\n",
    "sb.barplot(x='score', y='term', data=app_keywords, palette='viridis')\n",
    "plt.title(f'Top Keywords for {app_id}')\n",
    "plt.xlabel('TF-IDF Score')\n",
    "plt.ylabel('Keyword')\n",
    "plt.tight_layout()\n",
    "plt.show()"
   ]
  },
  {
   "cell_type": "code",
   "execution_count": 50,
   "id": "e795bbea",
   "metadata": {},
   "outputs": [
    {
     "name": "stderr",
     "output_type": "stream",
     "text": [
      "C:\\Users\\girmachew\\AppData\\Local\\Temp\\ipykernel_1780\\3378458790.py:5: FutureWarning: \n",
      "\n",
      "Passing `palette` without assigning `hue` is deprecated and will be removed in v0.14.0. Assign the `y` variable to `hue` and set `legend=False` for the same effect.\n",
      "\n",
      "  sb.barplot(x='score', y='term', data=app_keywords, palette='viridis')\n"
     ]
    },
    {
     "data": {
      "image/png": "[encoded data removed]",
      "text/plain": [
       "<Figure size 1000x600 with 1 Axes>"
      ]
     },
     "metadata": {},
     "output_type": "display_data"
    }
   ],
   "source": [
    "app_id = 'com.dashen.dashensuperapp'\n",
    "app_keywords = keywords_df[keywords_df['app_id'] == app_id].sort_values(by='score', ascending=False)\n",
    "\n",
    "plt.figure(figsize=(10, 6))\n",
    "sb.barplot(x='score', y='term', data=app_keywords, palette='viridis')\n",
    "plt.title(f'Top Keywords for {app_id}')\n",
    "plt.xlabel('TF-IDF Score')\n",
    "plt.ylabel('Keyword')\n",
    "plt.tight_layout()\n",
    "plt.show()"
   ]
  }
 ],
 "metadata": {
  "kernelspec": {
   "display_name": "venv",
   "language": "python",
   "name": "python3"
  },
  "language_info": {
   "codemirror_mode": {
    "name": "ipython",
    "version": 3
   },
   "file_extension": ".py",
   "mimetype": "text/x-python",
   "name": "python",
   "nbconvert_exporter": "python",
   "pygments_lexer": "ipython3",
   "version": "3.13.3"
  }
 },
 "nbformat": 4,
 "nbformat_minor": 5
}
