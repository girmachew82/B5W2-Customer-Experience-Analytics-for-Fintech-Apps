{
 "cells": [
  {
   "cell_type": "code",
   "execution_count": 3,
   "id": "f8ceac88",
   "metadata": {},
   "outputs": [],
   "source": [
    "from google_play_scraper import app, Sort, reviews_all\n",
    "import os\n",
    "import sys\n",
    "import pandas as pd"
   ]
  },
  {
   "cell_type": "code",
   "execution_count": 6,
   "id": "79dbf7d0",
   "metadata": {},
   "outputs": [],
   "source": [
    "sys.path.append(os.path.abspath(os.path.join('..')))"
   ]
  },
  {
   "cell_type": "code",
   "execution_count": 43,
   "id": "3a5c929c",
   "metadata": {},
   "outputs": [
    {
     "data": {
      "text/plain": [
       "{'title': 'Commercial Bank of Ethiopia',\n",
       " 'description': 'Commercial Bank of Ethiopia Mobile Banking\\r\\n\\r\\nThe Official app of CBE for Android\\r\\n\\r\\nCBE Android Mobile application gives you access to your account on your Android phone. Now, you can perform your banking tasks from the palm of your hand, from anywhere at anytime!\\r\\n\\r\\nWhat you can do?\\r\\n- Real time Account Balance\\r\\n- Account Statement\\r\\n- Funds Transfer between own account\\r\\n- Pay to your beneficiaries\\r\\n- Manage Beneficiary(Add, List and Delete beneficiaries)\\r\\n- Exchange Rate\\r\\n- Local Money Transfer using Mobile number\\r\\n- ATM Locator and much more.\\r\\n\\r\\nOnce you download the application, you can get Authorization code and PIN from your CBE Branch at any time.\\r\\n\\r\\nFor further information, please e-mail to us :-   MBandIB@cbe.com.et',\n",
       " 'descriptionHTML': 'Commercial Bank of Ethiopia Mobile Banking<br><br>The Official app of CBE for Android<br><br>CBE Android Mobile application gives you access to your account on your Android phone. Now, you can perform your banking tasks from the palm of your hand, from anywhere at anytime!<br><br>What you can do?<br>- Real time Account Balance<br>- Account Statement<br>- Funds Transfer between own account<br>- Pay to your beneficiaries<br>- Manage Beneficiary(Add, List and Delete beneficiaries)<br>- Exchange Rate<br>- Local Money Transfer using Mobile number<br>- ATM Locator and much more.<br><br>Once you download the application, you can get Authorization code and PIN from your CBE Branch at any time.<br><br>For further information, please e-mail to us :-   MBandIB@cbe.com.et',\n",
       " 'summary': 'With CBE Mobile app you can perform banking tasks anywhere at anytime!',\n",
       " 'installs': '5,000,000+',\n",
       " 'minInstalls': 5000000,\n",
       " 'realInstalls': 5738815,\n",
       " 'score': 4.475854,\n",
       " 'ratings': 34055,\n",
       " 'reviews': 7688,\n",
       " 'histogram': [2256, 1103, 1444, 2627, 26624],\n",
       " 'price': 0,\n",
       " 'free': True,\n",
       " 'currency': 'USD',\n",
       " 'sale': False,\n",
       " 'saleTime': None,\n",
       " 'originalPrice': None,\n",
       " 'saleText': None,\n",
       " 'offersIAP': False,\n",
       " 'inAppProductPrice': None,\n",
       " 'developer': 'Commercial Bank Of Ethiopia',\n",
       " 'developerId': 'Commercial+Bank+Of+Ethiopia',\n",
       " 'developerEmail': 'epaymentsupport@cbe.com.et',\n",
       " 'developerWebsite': 'http://www.combanketh.et',\n",
       " 'developerAddress': None,\n",
       " 'privacyPolicy': 'https://combanketh.et/mobile-privacy-notice/',\n",
       " 'genre': 'Finance',\n",
       " 'genreId': 'FINANCE',\n",
       " 'categories': [{'name': 'Finance', 'id': 'FINANCE'}],\n",
       " 'icon': 'https://play-lh.googleusercontent.com/kKGUk63iUIMXF-SL4AklHhZnQesw3-jZT2MR6NuX-xS54ncaZJ-8tlJETZdQYyZ5-g',\n",
       " 'headerImage': 'https://play-lh.googleusercontent.com/aBNybQTkGkguD2yRt5FT_tkM9PjCMWJSN13rt9fyM5ULeiT2fI0emauJDPFiT26sFg',\n",
       " 'screenshots': ['https://play-lh.googleusercontent.com/IGTSeTFXoA34NobvrRbJFVSJqruH25Py1R0eb42Nq6XwUE31ZTBi23Egfj7lsKioGjE',\n",
       "  'https://play-lh.googleusercontent.com/1Ea_k2n_M0lDRqNmuMN1C4HuQobITqQ-ymRQ0I72jHfGOCKdeetqFo22mt73zZqMYQ',\n",
       "  'https://play-lh.googleusercontent.com/MSZlHMJd-BPLGb0FpqEtp9A1AxAaumhUoUXrSwa7HqMPVqzMTE_sDlC0B3FcvDrrrg',\n",
       "  'https://play-lh.googleusercontent.com/3aN5snEq0NjDYNl4SFv259z71pEcnYYK0mbYI79GMnv9jPBzUVcKS5xsfuCn2iL6k4k',\n",
       "  'https://play-lh.googleusercontent.com/oExYr3pWVbu_ckys8YRdb4IQdYPUIKUHriZfZm28JXV03NkQGqg8eGZluIFXI7QvkoA',\n",
       "  'https://play-lh.googleusercontent.com/pPi3KSyrLSL0BV3VMk7snwNG4Ubn_PbuQIHJKjfYyai97ppbEecQf7odkuvq1WKvCg',\n",
       "  'https://play-lh.googleusercontent.com/k_NCwg2nj0HVlJNceaZO4RVSc_xo3_nIBtITfP1j37gbUptyGj3ri77DtprtwQgsAA',\n",
       "  'https://play-lh.googleusercontent.com/FFAzK-rzSRU7Lf37FzcIbW25OndyrWNnxkUa3T-4e4uhpcN7GOqLZNxYhJVH2EZ2U1Fq'],\n",
       " 'video': None,\n",
       " 'videoImage': None,\n",
       " 'contentRating': 'Rated for 3+',\n",
       " 'contentRatingDescription': None,\n",
       " 'adSupported': False,\n",
       " 'containsAds': False,\n",
       " 'released': 'Feb 10, 2014',\n",
       " 'lastUpdatedOn': 'Mar 15, 2025',\n",
       " 'updated': 1742030198,\n",
       " 'version': '5.1.0',\n",
       " 'comments': [],\n",
       " 'appId': 'com.combanketh.mobilebanking',\n",
       " 'url': 'https://play.google.com/store/apps/details?id=com.combanketh.mobilebanking&hl=en&gl=ET'}"
      ]
     },
     "execution_count": 43,
     "metadata": {},
     "output_type": "execute_result"
    }
   ],
   "source": [
    "from scripts.DataCollectionPreProcessing import DataCollectionPreProcesse\n",
    "\n",
    "obj = DataCollectionPreProcesse()\n",
    "\n",
    "obj.app_detail(\"com.combanketh.mobilebanking\")"
   ]
  },
  {
   "cell_type": "code",
   "execution_count": 34,
   "id": "281b29aa",
   "metadata": {},
   "outputs": [
    {
     "data": {
      "text/plain": [
       "{'title': 'BoA Mobile',\n",
       " 'description': 'BoA Mobile an innovative app from Bank of Abyssinia, empowers customers to effortlessly conduct a wide range of banking transactions right at their fingertips. Experience seamless and convenient banking on the go with BoA Mobile',\n",
       " 'descriptionHTML': 'BoA Mobile an innovative app from Bank of Abyssinia, empowers customers to effortlessly conduct a wide range of banking transactions right at their fingertips. Experience seamless and convenient banking on the go with BoA Mobile',\n",
       " 'summary': 'Mobile Banking Application',\n",
       " 'installs': '1,000,000+',\n",
       " 'minInstalls': 1000000,\n",
       " 'realInstalls': 1010732,\n",
       " 'score': 4.2876983,\n",
       " 'ratings': 5020,\n",
       " 'reviews': 1070,\n",
       " 'histogram': [547, 129, 308, 378, 3655],\n",
       " 'price': 0,\n",
       " 'free': True,\n",
       " 'currency': 'USD',\n",
       " 'sale': False,\n",
       " 'saleTime': None,\n",
       " 'originalPrice': None,\n",
       " 'saleText': None,\n",
       " 'offersIAP': False,\n",
       " 'inAppProductPrice': None,\n",
       " 'developer': 'Bank of Abyssinia',\n",
       " 'developerId': '7216950951017247612',\n",
       " 'developerEmail': 'boatcib@gmail.com',\n",
       " 'developerWebsite': None,\n",
       " 'developerAddress': 'Bank of Abyssinia, Gambia Street, Leghar, Addis Ababa Ethiopia',\n",
       " 'privacyPolicy': 'https://ssms.bankofabyssinia.com:9998/privacy.html',\n",
       " 'genre': 'Finance',\n",
       " 'genreId': 'FINANCE',\n",
       " 'categories': [{'name': 'Finance', 'id': 'FINANCE'}],\n",
       " 'icon': 'https://play-lh.googleusercontent.com/W6pOvwi0XCs8nNjZzcnZ91tXn29CBPUlLu4h8JQ1RCPPNMKyEVxYCPEuc4fCaLtw0A',\n",
       " 'headerImage': 'https://play-lh.googleusercontent.com/nf1OKrgh-E6w47vLSnM0sS-b42T6GCh62U7XMnLAprNmC7m0yNdVgFWHUd1M2O_TiR0',\n",
       " 'screenshots': ['https://play-lh.googleusercontent.com/wzgn3jITk2wFhvLyVAhNQJvjab48wpA5r7E3f50oTRVpiIKd4_Cf3zwA2qdzr-dNyA',\n",
       "  'https://play-lh.googleusercontent.com/OdXSglGZKsCq2rVQ0TsPkFUSpfCzNiTCqre9IAijg0pahLfn-Ru772w6_KrlMBeL0g',\n",
       "  'https://play-lh.googleusercontent.com/B73q7OnoGNYgStpQvJPQ-J13jPoe3MxIYlzApzs0WX85DDOJgMLC5cYcf2OVgFcz3jhR',\n",
       "  'https://play-lh.googleusercontent.com/b8fl_PNl7rwzbwxIoAshC3MTP4qSKskfl5LE3EZOYpQw29ZFS2BOmsg4fUZDyQ36kb0',\n",
       "  'https://play-lh.googleusercontent.com/4-KeshO-08hKUJmKs9ZaGy8MZFI9709hcOvV2GhTCKnmT4CZS-xJi8wvibeAgC29h3M',\n",
       "  'https://play-lh.googleusercontent.com/3jinAQZqV6Sy5emdCxABWdzj7p-uxYt3pIiVCJlvQoVxXtOhzyiwq312XRUmgVc2Ng',\n",
       "  'https://play-lh.googleusercontent.com/Pv7yCsLm_EjUaEhXEloi6EQ2CCPorJnbbb9RIX_6t27luJJWifcdTYwkZZSRkiyXWnIX',\n",
       "  'https://play-lh.googleusercontent.com/Euaez-z8NdEPD3LmFmeDzSB9oEcC8nrfTOlix2c5m56_NhdVnnI-vfLgpf0mCZXIF6c',\n",
       "  'https://play-lh.googleusercontent.com/18z-FSNTswVVYQrsntytpdqjpdf7oc1IBksbhpOrqeAidzg6XR-iRt0iAnFqD5WAFqya',\n",
       "  'https://play-lh.googleusercontent.com/yjzWidH0GAHOtodRFME9IEGEc6oZqa9Q-Yzi0MloicdLhCSaJ9B0LNQi_PSM70-0Iw',\n",
       "  'https://play-lh.googleusercontent.com/8zoq2nNDlEAKSltzRujObKnuIsW2pxwy6gOFVr3jmVh_S2h-b5-euOl6-bWka4y5mA',\n",
       "  'https://play-lh.googleusercontent.com/RGlrvI0xCkA64KRtumIWWAwk0BGccQW-kot7xyvSzHqImB8iXBQa1ZM7SdjMcyIGYLk',\n",
       "  'https://play-lh.googleusercontent.com/DIG0Zs9T1SKK3rKRYfjytfR0j4WipTT9bRrC2A5R2B3WMcsaPz8JYCN9yLIpJhGkygA',\n",
       "  'https://play-lh.googleusercontent.com/dO7n0PxhgO49aOV2FsTml6mOhWNFbZ-MAEpaFlRZgoeY-qjsKOyImbVHj6Lfi05K7kk',\n",
       "  'https://play-lh.googleusercontent.com/p1gmR6mT5etaVHOkQZm4792zsoqWcbHzNT8iVkyghh2oc2rrrtEEAdZI7YY_I2ciRUTf',\n",
       "  'https://play-lh.googleusercontent.com/vy8JY8IZ98wOnsBnAC5LgB0vllAb-EEDMcXMXqfh36KoFp2JHE8lQheRfkSLCFH40mo',\n",
       "  'https://play-lh.googleusercontent.com/G6UbQLB9AGqjTSx4OMr15DSop6Npt1HaQd0aWxJ_c3aEn60xZrqebufMpfgHeknyXA',\n",
       "  'https://play-lh.googleusercontent.com/rgTm01ZAPfB5outC-BJWys96AIfSdaA1Rpsa-diupuZ4pO7z3nmxLoK4iGCcdiCnAlc',\n",
       "  'https://play-lh.googleusercontent.com/z9EyvQuGpqwbw9ev96i_hxldQW6JOtTG0fJm6PdMz60_XTXb5DuxekuzNm-OnZSG8ZQ',\n",
       "  'https://play-lh.googleusercontent.com/sUb-8ptR-QE23VCiPMinRIulDhtnlopuIE1bpuO8smBmme377AUcrhlIB0hJ7xlU4Sg',\n",
       "  'https://play-lh.googleusercontent.com/Hg70fpGRr1yEoFRO9RVtbyvxLweBlULZRUckQfwYLgTePQ5nK2rbsJHPiXLpGXYDP9c',\n",
       "  'https://play-lh.googleusercontent.com/7MqgQ4Y2j-LHJh3e3oUEAV_RkwWbFpih4IyAQPiCCZ4eYxagCAKSNo84kZe4ZCBmjg',\n",
       "  'https://play-lh.googleusercontent.com/WQPmbz313Y380odkAa-LZtgW1hCP9i214JUzVkqIwFs76zCALzWWRChi_jF9Xju8_A',\n",
       "  'https://play-lh.googleusercontent.com/6tA91vnghJGs4vQJTwl86vLLEOQ9VuBYxal89qDL1Lp61YvD2AB3kdClTGkpefcp43GB'],\n",
       " 'video': None,\n",
       " 'videoImage': None,\n",
       " 'contentRating': 'Rated for 3+',\n",
       " 'contentRatingDescription': None,\n",
       " 'adSupported': False,\n",
       " 'containsAds': False,\n",
       " 'released': None,\n",
       " 'lastUpdatedOn': 'May 4, 2025',\n",
       " 'updated': 1746357482,\n",
       " 'version': '25.05.03',\n",
       " 'comments': [],\n",
       " 'appId': 'com.boa.boaMobileBanking',\n",
       " 'url': 'https://play.google.com/store/apps/details?id=com.boa.boaMobileBanking&hl=en&gl=ET'}"
      ]
     },
     "execution_count": 34,
     "metadata": {},
     "output_type": "execute_result"
    }
   ],
   "source": [
    "obj.app_detail(\"com.boa.boaMobileBanking\")"
   ]
  },
  {
   "cell_type": "code",
   "execution_count": 35,
   "id": "c327e60c",
   "metadata": {},
   "outputs": [
    {
     "data": {
      "text/plain": [
       "{'title': 'Dashen Bank',\n",
       " 'description': 'Why choose Dashen Bank Super App?\\r\\n• Secure & Reliable: Built with robust security to protect your financial transactions.\\r\\n• Convenient: Manage your accounts, pay bills, and access essential services in one place.\\r\\n• User-Friendly: Simplified design for seamless navigation and usage.',\n",
       " 'descriptionHTML': 'Why choose Dashen Bank Super App?<br>• Secure &amp; Reliable: Built with robust security to protect your financial transactions.<br>• Convenient: Manage your accounts, pay bills, and access essential services in one place.<br>• User-Friendly: Simplified design for seamless navigation and usage.',\n",
       " 'summary': 'Bank smarter, pay bills easily, and access essential lifestyle services',\n",
       " 'installs': '500,000+',\n",
       " 'minInstalls': 500000,\n",
       " 'realInstalls': 534130,\n",
       " 'score': 4.4251966,\n",
       " 'ratings': 1252,\n",
       " 'reviews': 450,\n",
       " 'histogram': [118, 29, 49, 59, 995],\n",
       " 'price': 0,\n",
       " 'free': True,\n",
       " 'currency': 'USD',\n",
       " 'sale': False,\n",
       " 'saleTime': None,\n",
       " 'originalPrice': None,\n",
       " 'saleText': None,\n",
       " 'offersIAP': False,\n",
       " 'inAppProductPrice': None,\n",
       " 'developer': 'Dashen Bank S.c.',\n",
       " 'developerId': 'Dashen+Bank+S.c.',\n",
       " 'developerEmail': 'info@dashenbanks.com',\n",
       " 'developerWebsite': None,\n",
       " 'developerAddress': None,\n",
       " 'privacyPolicy': 'https://www.dashensuperapp.com/privacy-policy',\n",
       " 'genre': 'Finance',\n",
       " 'genreId': 'FINANCE',\n",
       " 'categories': [{'name': 'Finance', 'id': 'FINANCE'}],\n",
       " 'icon': 'https://play-lh.googleusercontent.com/iqSg1Sbo332FCja9e99khtAOwyVWZhZp1IRvulU_U9ASnOnnnCxXCFocCEE6PhMVAUw',\n",
       " 'headerImage': 'https://play-lh.googleusercontent.com/PJhNWmAwwXIG5X2qM7g_5mHyG2tHpbs-ngnMCJQSiv1mLte-27e74mrpzXe7h3TA4HQ',\n",
       " 'screenshots': ['https://play-lh.googleusercontent.com/qVpd0uuUDm-i2QKB5KyvmD3K_BjKihRn91TUNRgsLCvP_Szp64e9_ZLlXhe8_9JLz7I',\n",
       "  'https://play-lh.googleusercontent.com/vC4X0E-NJXy6Pjs6jIArpoP3cMA80h4hivWMJkXOpkckim10tINNkDAzzSoAMIhac7w',\n",
       "  'https://play-lh.googleusercontent.com/_PITPqM1qNz_xKlGrQdjp3bH9dN_Js3Ah3lANrQ8ZHD1Y7-zzN5lM8NMqepVn-3M_g',\n",
       "  'https://play-lh.googleusercontent.com/TjkJunNLNGE1-w4migPCtYXEeIh0dV4wEYMCJ3NCP8qu1I7FnWCUI-lYE6RBNH0Atoi1',\n",
       "  'https://play-lh.googleusercontent.com/qZroW5rQ2Zzc_zCdD3mraNVL6iwxtb6jp6KwTysj5n3OihlWdNtJ9CKZCsbkSwxHPHX8',\n",
       "  'https://play-lh.googleusercontent.com/ZdspsP8eILmfv9KNaKQro9ZWhjWe10lbvOmAL4x7-9j9qAZNYG_T0CyrYpY02dECKnY',\n",
       "  'https://play-lh.googleusercontent.com/jcrhacpO0UysGgO6sVwHyULe9ePhF2BtvIs0hm4m8U3wjUZigCgZvGexqcT-dkUrTV8'],\n",
       " 'video': None,\n",
       " 'videoImage': None,\n",
       " 'contentRating': 'Rated for 3+',\n",
       " 'contentRatingDescription': None,\n",
       " 'adSupported': False,\n",
       " 'containsAds': False,\n",
       " 'released': None,\n",
       " 'lastUpdatedOn': 'Apr 29, 2025',\n",
       " 'updated': 1745993624,\n",
       " 'version': '1.0.16',\n",
       " 'comments': [],\n",
       " 'appId': 'com.dashen.dashensuperapp',\n",
       " 'url': 'https://play.google.com/store/apps/details?id=com.dashen.dashensuperapp&hl=en&gl=ET'}"
      ]
     },
     "execution_count": 35,
     "metadata": {},
     "output_type": "execute_result"
    }
   ],
   "source": [
    "obj.app_detail(\"com.dashen.dashensuperapp\")"
   ]
  },
  {
   "cell_type": "code",
   "execution_count": 36,
   "id": "4aa8b7ca",
   "metadata": {},
   "outputs": [],
   "source": [
    "cbe_reviews = obj.reviews(\"com.combanketh.mobilebanking\")\n",
    "boa_reviews = obj.reviews(\"com.boa.boaMobileBanking\")\n",
    "dashen_bank_reviews = obj.reviews(\"com.dashen.dashensuperapp\")"
   ]
  },
  {
   "cell_type": "code",
   "execution_count": 37,
   "id": "6c7e5832",
   "metadata": {},
   "outputs": [
    {
     "name": "stdout",
     "output_type": "stream",
     "text": [
      "CBE number of reviews  7498\n",
      "BOA number of reviews  1045\n",
      "Dashen bank number of reviews  448\n"
     ]
    }
   ],
   "source": [
    "print(\"CBE number of reviews \", len(cbe_reviews))\n",
    "print(\"BOA number of reviews \", len(boa_reviews))\n",
    "print(\"Dashen bank number of reviews \", len(dashen_bank_reviews))"
   ]
  },
  {
   "cell_type": "code",
   "execution_count": 38,
   "id": "111de5ec",
   "metadata": {},
   "outputs": [
    {
     "data": {
      "text/plain": [
       "{'reviewId': '9e6b8e08-8acf-4e1f-a179-a5a703ff2ebc',\n",
       " 'userName': 'A Google user',\n",
       " 'userImage': 'https://play-lh.googleusercontent.com/EGemoI2NTXmTsBVtJqk8jxF9rh8ApRWfsIMQSt2uE4OcpQqbFu7f7NbTK05lx80nuSijCz7sc3a277R67g',\n",
       " 'content': 'The CBE app has been highly unreliable in recent weeks. It frequently fails to work properly on both Ethio Telecom and Safaricom networks, whether using Wi-Fi or mobile data. This week, the system was down entirely for extended periods, making it very difficult to access banking services. The app only functions intermittently, and the lack of consistency is frustrating. I hope the issues are addressed soon, and that any non-technical influences are removed from such essential services.',\n",
       " 'score': 2,\n",
       " 'thumbsUpCount': 13,\n",
       " 'reviewCreatedVersion': '5.1.0',\n",
       " 'at': datetime.datetime(2025, 5, 25, 10, 54, 25),\n",
       " 'replyContent': None,\n",
       " 'repliedAt': None,\n",
       " 'appVersion': '5.1.0'}"
      ]
     },
     "execution_count": 38,
     "metadata": {},
     "output_type": "execute_result"
    }
   ],
   "source": [
    "cbe_reviews[0]"
   ]
  },
  {
   "cell_type": "code",
   "execution_count": 40,
   "id": "969ecd94",
   "metadata": {},
   "outputs": [
    {
     "name": "stdout",
     "output_type": "stream",
     "text": [
      "✅ Exported to data\\all_bank_reviews.csv\n"
     ]
    }
   ],
   "source": [
    "obj.export_all_reviews_to_single_csv(\n",
    "    reviews_list=[\n",
    "        (\"com.combanketh.mobilebanking\", cbe_reviews),\n",
    "        (\"com.boa.boaMobileBanking\", boa_reviews),\n",
    "        (\"com.dashen.dashensuperapp\", dashen_bank_reviews),\n",
    "    ],\n",
    "    csv_filename=\"all_bank_reviews.csv\"\n",
    ")\n"
   ]
  },
  {
   "cell_type": "code",
   "execution_count": 48,
   "id": "31cbf9d8",
   "metadata": {},
   "outputs": [
    {
     "name": "stdout",
     "output_type": "stream",
     "text": [
      "(8991, 5)\n",
      "                         app_id       userName  score  \\\n",
      "0  com.combanketh.mobilebanking  A Google user      2   \n",
      "1  com.combanketh.mobilebanking  A Google user      4   \n",
      "2  com.combanketh.mobilebanking  A Google user      5   \n",
      "3  com.combanketh.mobilebanking  A Google user      5   \n",
      "4  com.combanketh.mobilebanking  A Google user      1   \n",
      "\n",
      "                                             content                   at  \n",
      "0  The CBE app has been highly unreliable in rece...  2025-05-25 10:54:25  \n",
      "1  this new update(Mar 19,2025) is great in fixin...  2025-03-20 15:11:38  \n",
      "2  Good job to the CBE team on this mobile app! I...  2025-04-04 22:18:47  \n",
      "3  this app has developed in a very good ways but...  2025-05-31 21:21:18  \n",
      "4  everytime you uninstall the app you have to re...  2025-06-04 21:33:36  \n"
     ]
    }
   ],
   "source": [
    "# Read all Banks CSV file\n",
    "df = pd.read_csv(\"data/all_bank_reviews.csv\")\n",
    "\n",
    "# Preview the data\n",
    "print(df.shape)\n",
    "print(df.head())"
   ]
  },
  {
   "cell_type": "code",
   "execution_count": 53,
   "id": "dfa1c913",
   "metadata": {},
   "outputs": [],
   "source": [
    "# Remove exact duplicate rows\n",
    "df = df.drop_duplicates()"
   ]
  },
  {
   "cell_type": "code",
   "execution_count": 54,
   "id": "62b31ed4",
   "metadata": {},
   "outputs": [
    {
     "data": {
      "text/plain": [
       "(8991, 5)"
      ]
     },
     "execution_count": 54,
     "metadata": {},
     "output_type": "execute_result"
    }
   ],
   "source": [
    "df.shape"
   ]
  },
  {
   "cell_type": "code",
   "execution_count": 52,
   "id": "9a19431a",
   "metadata": {},
   "outputs": [
    {
     "name": "stdout",
     "output_type": "stream",
     "text": [
      "Missing values per column:\n",
      "app_id      0\n",
      "userName    0\n",
      "score       0\n",
      "content     7\n",
      "at          0\n",
      "dtype: int64\n"
     ]
    }
   ],
   "source": [
    "print(\"Missing values per column:\")\n",
    "print(df.isnull().sum())"
   ]
  },
  {
   "cell_type": "code",
   "execution_count": 55,
   "id": "8fed6e14",
   "metadata": {},
   "outputs": [],
   "source": [
    "# Drop rows with missing 'content' or 'score' (essential for analysis)\n",
    "df = df.dropna(subset=['content', 'score'])"
   ]
  },
  {
   "cell_type": "code",
   "execution_count": 60,
   "id": "b796eb02",
   "metadata": {},
   "outputs": [
    {
     "name": "stdout",
     "output_type": "stream",
     "text": [
      "Check the Missing values per column:\n",
      "app_id      0\n",
      "userName    0\n",
      "score       0\n",
      "content     0\n",
      "at          0\n",
      "dtype: int64\n"
     ]
    }
   ],
   "source": [
    "print(\"Check the Missing values per column:\")\n",
    "print(df.isnull().sum())"
   ]
  },
  {
   "cell_type": "code",
   "execution_count": 56,
   "id": "9867cc44",
   "metadata": {},
   "outputs": [
    {
     "data": {
      "text/plain": [
       "(8984, 5)"
      ]
     },
     "execution_count": 56,
     "metadata": {},
     "output_type": "execute_result"
    }
   ],
   "source": [
    "df.shape"
   ]
  },
  {
   "cell_type": "code",
   "execution_count": 57,
   "id": "198108e1",
   "metadata": {},
   "outputs": [],
   "source": [
    "# Save cleaned data to a new CSV\n",
    "df.to_csv(\"data/cleaned_bank_reviews.csv\", index=False)"
   ]
  },
  {
   "cell_type": "code",
   "execution_count": null,
   "id": "8ee3c150",
   "metadata": {},
   "outputs": [],
   "source": [
    "# Load cleaned data\n",
    "df = pd.read_csv(\"data/cleaned_bank_reviews.csv\")\n",
    "\n",
    "# Convert 'at' to datetime, then format to YYYY-MM-DD\n",
    "df['at'] = pd.to_datetime(df['at'], errors='coerce').dt.strftime('%Y-%m-%d')\n",
    "\n",
    "# Drop rows where date couldn't be parsed\n",
    "df = df.dropna(subset=['at'])\n",
    "\n",
    "# Save updated file\n",
    "df.to_csv(\"data/cleaned_bank_reviews.csv\", index=False)"
   ]
  },
  {
   "cell_type": "code",
   "execution_count": 59,
   "id": "de1953db",
   "metadata": {},
   "outputs": [
    {
     "data": {
      "text/plain": [
       "'2025-05-25'"
      ]
     },
     "execution_count": 59,
     "metadata": {},
     "output_type": "execute_result"
    }
   ],
   "source": [
    "df['at'][0]"
   ]
  },
  {
   "cell_type": "code",
   "execution_count": 61,
   "id": "5b7f0054",
   "metadata": {},
   "outputs": [
    {
     "data": {
      "text/plain": [
       "Index(['app_id', 'userName', 'score', 'content', 'at'], dtype='object')"
      ]
     },
     "execution_count": 61,
     "metadata": {},
     "output_type": "execute_result"
    }
   ],
   "source": [
    "df.columns"
   ]
  },
  {
   "cell_type": "code",
   "execution_count": 62,
   "id": "43692583",
   "metadata": {},
   "outputs": [],
   "source": [
    "# Column name change\n",
    "# Select and rename relevant columns\n",
    "df_final = df.rename(columns={\n",
    "    'content': 'review',\n",
    "    'score': 'rating',\n",
    "    'at': 'date',\n",
    "    'app_id': 'bank'\n",
    "})\n",
    "\n",
    "# 2. Add a constant column for 'source'\n",
    "df_final['source'] = 'Google Play Store'\n",
    "\n",
    "# 3. Keep only the needed columns\n",
    "df_final = df_final[['review', 'rating', 'date', 'bank', 'source']]\n",
    "\n",
    "# 4. Save to a new CSV\n",
    "df_final.to_csv(\"data/final_bank_reviews.csv\", index=False)"
   ]
  },
  {
   "cell_type": "code",
   "execution_count": 64,
   "id": "4dc1ba42",
   "metadata": {},
   "outputs": [
    {
     "data": {
      "text/plain": [
       "Index(['review', 'rating', 'date', 'bank', 'source'], dtype='object')"
      ]
     },
     "execution_count": 64,
     "metadata": {},
     "output_type": "execute_result"
    }
   ],
   "source": [
    "df_final.columns"
   ]
  },
  {
   "cell_type": "code",
   "execution_count": 65,
   "id": "6bece94f",
   "metadata": {},
   "outputs": [
    {
     "data": {
      "text/plain": [
       "<bound method NDFrame.head of                                                  review  rating        date  \\\n",
       "0     The CBE app has been highly unreliable in rece...       2  2025-05-25   \n",
       "1     this new update(Mar 19,2025) is great in fixin...       4  2025-03-20   \n",
       "2     Good job to the CBE team on this mobile app! I...       5  2025-04-04   \n",
       "3     this app has developed in a very good ways but...       5  2025-05-31   \n",
       "4     everytime you uninstall the app you have to re...       1  2025-06-04   \n",
       "...                                                 ...     ...         ...   \n",
       "8979                                                wow       5  2025-05-13   \n",
       "8980                                            Pro max       5  2025-01-17   \n",
       "8981                                           wow appl       5  2025-04-28   \n",
       "8982                                            wow apo       5  2025-05-15   \n",
       "8983                                         wowwwe app       5  2025-05-17   \n",
       "\n",
       "                              bank             source  \n",
       "0     com.combanketh.mobilebanking  Google Play Store  \n",
       "1     com.combanketh.mobilebanking  Google Play Store  \n",
       "2     com.combanketh.mobilebanking  Google Play Store  \n",
       "3     com.combanketh.mobilebanking  Google Play Store  \n",
       "4     com.combanketh.mobilebanking  Google Play Store  \n",
       "...                            ...                ...  \n",
       "8979     com.dashen.dashensuperapp  Google Play Store  \n",
       "8980     com.dashen.dashensuperapp  Google Play Store  \n",
       "8981     com.dashen.dashensuperapp  Google Play Store  \n",
       "8982     com.dashen.dashensuperapp  Google Play Store  \n",
       "8983     com.dashen.dashensuperapp  Google Play Store  \n",
       "\n",
       "[8984 rows x 5 columns]>"
      ]
     },
     "execution_count": 65,
     "metadata": {},
     "output_type": "execute_result"
    }
   ],
   "source": [
    "df_final.head"
   ]
  }
 ],
 "metadata": {
  "kernelspec": {
   "display_name": ".venv",
   "language": "python",
   "name": "python3"
  },
  "language_info": {
   "codemirror_mode": {
    "name": "ipython",
    "version": 3
   },
   "file_extension": ".py",
   "mimetype": "text/x-python",
   "name": "python",
   "nbconvert_exporter": "python",
   "pygments_lexer": "ipython3",
   "version": "3.13.3"
  }
 },
 "nbformat": 4,
 "nbformat_minor": 5
}
