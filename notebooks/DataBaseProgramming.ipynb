{
 "cells": [
  {
   "cell_type": "code",
   "execution_count": 1,
   "id": "ceed4305",
   "metadata": {},
   "outputs": [],
   "source": [
    "import os\n",
    "import sys\n",
    "import pandas as pd\n",
    "import pandas as pd"
   ]
  },
  {
   "cell_type": "code",
   "execution_count": 2,
   "id": "8898db56",
   "metadata": {},
   "outputs": [],
   "source": [
    "sys.path.append(os.path.abspath(os.path.join('..')))"
   ]
  },
  {
   "cell_type": "code",
   "execution_count": 10,
   "id": "5d711478",
   "metadata": {},
   "outputs": [],
   "source": [
    "df= pd.read_csv('data/all_bank_reviews.csv')\n",
    "df_sn = pd.read_csv(\"data/final_bank_reviews_with_sentiment.csv\")"
   ]
  },
  {
   "cell_type": "code",
   "execution_count": 11,
   "id": "7a144877",
   "metadata": {},
   "outputs": [],
   "source": [
    "df.columns = df.columns.str.strip()  # Clean whitespace\n",
    "df = df.rename(columns={'userName': 'username'})  # Rename for PostgreSQL table match\n"
   ]
  },
  {
   "cell_type": "code",
   "execution_count": 5,
   "id": "b2e40f6a",
   "metadata": {},
   "outputs": [
    {
     "data": {
      "text/html": [
       "<div>\n",
       "<style scoped>\n",
       "    .dataframe tbody tr th:only-of-type {\n",
       "        vertical-align: middle;\n",
       "    }\n",
       "\n",
       "    .dataframe tbody tr th {\n",
       "        vertical-align: top;\n",
       "    }\n",
       "\n",
       "    .dataframe thead th {\n",
       "        text-align: right;\n",
       "    }\n",
       "</style>\n",
       "<table border=\"1\" class=\"dataframe\">\n",
       "  <thead>\n",
       "    <tr style=\"text-align: right;\">\n",
       "      <th></th>\n",
       "      <th>app_id</th>\n",
       "      <th>username</th>\n",
       "      <th>score</th>\n",
       "      <th>content</th>\n",
       "      <th>at</th>\n",
       "    </tr>\n",
       "  </thead>\n",
       "  <tbody>\n",
       "    <tr>\n",
       "      <th>0</th>\n",
       "      <td>com.combanketh.mobilebanking</td>\n",
       "      <td>A Google user</td>\n",
       "      <td>2</td>\n",
       "      <td>The CBE app has been highly unreliable in rece...</td>\n",
       "      <td>2025-05-25 10:54:25</td>\n",
       "    </tr>\n",
       "    <tr>\n",
       "      <th>1</th>\n",
       "      <td>com.combanketh.mobilebanking</td>\n",
       "      <td>A Google user</td>\n",
       "      <td>4</td>\n",
       "      <td>this new update(Mar 19,2025) is great in fixin...</td>\n",
       "      <td>2025-03-20 15:11:38</td>\n",
       "    </tr>\n",
       "    <tr>\n",
       "      <th>2</th>\n",
       "      <td>com.combanketh.mobilebanking</td>\n",
       "      <td>A Google user</td>\n",
       "      <td>5</td>\n",
       "      <td>Good job to the CBE team on this mobile app! I...</td>\n",
       "      <td>2025-04-04 22:18:47</td>\n",
       "    </tr>\n",
       "    <tr>\n",
       "      <th>3</th>\n",
       "      <td>com.combanketh.mobilebanking</td>\n",
       "      <td>A Google user</td>\n",
       "      <td>5</td>\n",
       "      <td>this app has developed in a very good ways but...</td>\n",
       "      <td>2025-05-31 21:21:18</td>\n",
       "    </tr>\n",
       "    <tr>\n",
       "      <th>4</th>\n",
       "      <td>com.combanketh.mobilebanking</td>\n",
       "      <td>A Google user</td>\n",
       "      <td>1</td>\n",
       "      <td>everytime you uninstall the app you have to re...</td>\n",
       "      <td>2025-06-04 21:33:36</td>\n",
       "    </tr>\n",
       "  </tbody>\n",
       "</table>\n",
       "</div>"
      ],
      "text/plain": [
       "                         app_id       username  score  \\\n",
       "0  com.combanketh.mobilebanking  A Google user      2   \n",
       "1  com.combanketh.mobilebanking  A Google user      4   \n",
       "2  com.combanketh.mobilebanking  A Google user      5   \n",
       "3  com.combanketh.mobilebanking  A Google user      5   \n",
       "4  com.combanketh.mobilebanking  A Google user      1   \n",
       "\n",
       "                                             content                   at  \n",
       "0  The CBE app has been highly unreliable in rece...  2025-05-25 10:54:25  \n",
       "1  this new update(Mar 19,2025) is great in fixin...  2025-03-20 15:11:38  \n",
       "2  Good job to the CBE team on this mobile app! I...  2025-04-04 22:18:47  \n",
       "3  this app has developed in a very good ways but...  2025-05-31 21:21:18  \n",
       "4  everytime you uninstall the app you have to re...  2025-06-04 21:33:36  "
      ]
     },
     "execution_count": 5,
     "metadata": {},
     "output_type": "execute_result"
    }
   ],
   "source": [
    "df.head()"
   ]
  },
  {
   "cell_type": "code",
   "execution_count": 12,
   "id": "72bc0339",
   "metadata": {},
   "outputs": [],
   "source": [
    "from scripts.dbProgramming import DBProgramming"
   ]
  },
  {
   "cell_type": "code",
   "execution_count": 13,
   "id": "f9805740",
   "metadata": {},
   "outputs": [],
   "source": [
    "db = DBProgramming(\n",
    "    user='admin',\n",
    "    password='admin123',\n",
    "    host='localhost',\n",
    "    port ='5432',\n",
    "    database='bank_reviews'\n",
    ")"
   ]
  },
  {
   "cell_type": "code",
   "execution_count": 9,
   "id": "f61bb25c",
   "metadata": {},
   "outputs": [
    {
     "name": "stdout",
     "output_type": "stream",
     "text": [
      "✅ Data inserted into 'banks' successfully.\n"
     ]
    }
   ],
   "source": [
    "\n",
    "db.insert_dataframe(df, 'banks')"
   ]
  },
  {
   "cell_type": "code",
   "execution_count": 14,
   "id": "01f02a8d",
   "metadata": {},
   "outputs": [
    {
     "name": "stdout",
     "output_type": "stream",
     "text": [
      "✅ Data inserted into 'reviews' successfully.\n"
     ]
    }
   ],
   "source": [
    "db.insert_dataframe(df_sn,'reviews')"
   ]
  },
  {
   "cell_type": "code",
   "execution_count": null,
   "id": "0132164f",
   "metadata": {},
   "outputs": [],
   "source": []
  }
 ],
 "metadata": {
  "kernelspec": {
   "display_name": "venv",
   "language": "python",
   "name": "python3"
  },
  "language_info": {
   "codemirror_mode": {
    "name": "ipython",
    "version": 3
   },
   "file_extension": ".py",
   "mimetype": "text/x-python",
   "name": "python",
   "nbconvert_exporter": "python",
   "pygments_lexer": "ipython3",
   "version": "3.13.3"
  }
 },
 "nbformat": 4,
 "nbformat_minor": 5
}
